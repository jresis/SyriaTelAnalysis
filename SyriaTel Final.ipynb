{
 "cells": [
  {
   "cell_type": "markdown",
   "metadata": {},
   "source": [
    "The goal of this project is to provide SyriaTel, a telecommunications company, solutions regarding customer retention. In this dataset, there were a variety of factors, and one of the aims was to determine the most important variables while determining if a customer would continue using SyriaTel’s services. In other words, identifying the areas where SyriaTel has the most room for improvement was a key focus. This way, I would be able to determine the factors that were most helpful and most costly to SyriaTel. For each model, we also used a 2×2 confusion matrix as well as four metrics (accuracy, recall, precision, and F1). The confusion matrices are an easy way to visualize the accuracy of each model (1=customer churned, 0=customer remained). Numbers in the top-left and bottom-right corners represent correct predictions, while the other corners represent incorrect ones. Accuracy is all about the percentage of predictions (whether or not a customer churned) that were correct. That is a very important metric, but F1 was also a key emphasis, as it considers both precision and recall. Therefore, a high F1 score generally indicates a model that is reliable all-around."
   ]
  },
  {
   "cell_type": "code",
   "execution_count": 1,
   "metadata": {},
   "outputs": [],
   "source": [
    "import pandas as pd\n",
    "import numpy as np\n",
    "import seaborn as sns\n",
    "import matplotlib.pyplot as plt\n",
    "%matplotlib inline\n",
    "import sqlite3\n",
    "import json\n",
    "import requests\n",
    "import time\n",
    "from bs4 import BeautifulSoup\n",
    "import re\n",
    "from numpy.random import normal\n",
    "from scipy.stats import kurtosis, skew\n",
    "import math\n",
    "from statsmodels.formula.api import ols\n",
    "from statsmodels.stats.outliers_influence import variance_inflation_factor\n",
    "import statsmodels.api as sm\n",
    "import scipy.stats as stats\n",
    "from sklearn.model_selection import train_test_split\n",
    "import warnings\n",
    "warnings.filterwarnings('ignore')\n",
    "from sklearn.metrics import plot_confusion_matrix\n",
    "from sklearn.metrics import confusion_matrix\n",
    "from sklearn.linear_model import LogisticRegression\n",
    "import statsmodels.api as sm\n",
    "from imblearn.over_sampling import SMOTE, ADASYN\n",
    "from sklearn.metrics import roc_curve, auc\n",
    "from sklearn.preprocessing import StandardScaler\n",
    "df = pd.read_csv('Telecom.csv')"
   ]
  },
  {
   "cell_type": "code",
   "execution_count": 2,
   "metadata": {},
   "outputs": [
    {
     "data": {
      "text/html": [
       "<div>\n",
       "<style scoped>\n",
       "    .dataframe tbody tr th:only-of-type {\n",
       "        vertical-align: middle;\n",
       "    }\n",
       "\n",
       "    .dataframe tbody tr th {\n",
       "        vertical-align: top;\n",
       "    }\n",
       "\n",
       "    .dataframe thead th {\n",
       "        text-align: right;\n",
       "    }\n",
       "</style>\n",
       "<table border=\"1\" class=\"dataframe\">\n",
       "  <thead>\n",
       "    <tr style=\"text-align: right;\">\n",
       "      <th></th>\n",
       "      <th>state</th>\n",
       "      <th>account length</th>\n",
       "      <th>area code</th>\n",
       "      <th>phone number</th>\n",
       "      <th>international plan</th>\n",
       "      <th>voice mail plan</th>\n",
       "      <th>number vmail messages</th>\n",
       "      <th>total day minutes</th>\n",
       "      <th>total day calls</th>\n",
       "      <th>total day charge</th>\n",
       "      <th>...</th>\n",
       "      <th>total eve calls</th>\n",
       "      <th>total eve charge</th>\n",
       "      <th>total night minutes</th>\n",
       "      <th>total night calls</th>\n",
       "      <th>total night charge</th>\n",
       "      <th>total intl minutes</th>\n",
       "      <th>total intl calls</th>\n",
       "      <th>total intl charge</th>\n",
       "      <th>customer service calls</th>\n",
       "      <th>churn</th>\n",
       "    </tr>\n",
       "  </thead>\n",
       "  <tbody>\n",
       "    <tr>\n",
       "      <th>0</th>\n",
       "      <td>KS</td>\n",
       "      <td>128</td>\n",
       "      <td>415</td>\n",
       "      <td>382-4657</td>\n",
       "      <td>no</td>\n",
       "      <td>yes</td>\n",
       "      <td>25</td>\n",
       "      <td>265.1</td>\n",
       "      <td>110</td>\n",
       "      <td>45.07</td>\n",
       "      <td>...</td>\n",
       "      <td>99</td>\n",
       "      <td>16.78</td>\n",
       "      <td>244.7</td>\n",
       "      <td>91</td>\n",
       "      <td>11.01</td>\n",
       "      <td>10.0</td>\n",
       "      <td>3</td>\n",
       "      <td>2.70</td>\n",
       "      <td>1</td>\n",
       "      <td>False</td>\n",
       "    </tr>\n",
       "    <tr>\n",
       "      <th>1</th>\n",
       "      <td>OH</td>\n",
       "      <td>107</td>\n",
       "      <td>415</td>\n",
       "      <td>371-7191</td>\n",
       "      <td>no</td>\n",
       "      <td>yes</td>\n",
       "      <td>26</td>\n",
       "      <td>161.6</td>\n",
       "      <td>123</td>\n",
       "      <td>27.47</td>\n",
       "      <td>...</td>\n",
       "      <td>103</td>\n",
       "      <td>16.62</td>\n",
       "      <td>254.4</td>\n",
       "      <td>103</td>\n",
       "      <td>11.45</td>\n",
       "      <td>13.7</td>\n",
       "      <td>3</td>\n",
       "      <td>3.70</td>\n",
       "      <td>1</td>\n",
       "      <td>False</td>\n",
       "    </tr>\n",
       "    <tr>\n",
       "      <th>2</th>\n",
       "      <td>NJ</td>\n",
       "      <td>137</td>\n",
       "      <td>415</td>\n",
       "      <td>358-1921</td>\n",
       "      <td>no</td>\n",
       "      <td>no</td>\n",
       "      <td>0</td>\n",
       "      <td>243.4</td>\n",
       "      <td>114</td>\n",
       "      <td>41.38</td>\n",
       "      <td>...</td>\n",
       "      <td>110</td>\n",
       "      <td>10.30</td>\n",
       "      <td>162.6</td>\n",
       "      <td>104</td>\n",
       "      <td>7.32</td>\n",
       "      <td>12.2</td>\n",
       "      <td>5</td>\n",
       "      <td>3.29</td>\n",
       "      <td>0</td>\n",
       "      <td>False</td>\n",
       "    </tr>\n",
       "  </tbody>\n",
       "</table>\n",
       "<p>3 rows × 21 columns</p>\n",
       "</div>"
      ],
      "text/plain": [
       "  state  account length  area code phone number international plan  \\\n",
       "0    KS             128        415     382-4657                 no   \n",
       "1    OH             107        415     371-7191                 no   \n",
       "2    NJ             137        415     358-1921                 no   \n",
       "\n",
       "  voice mail plan  number vmail messages  total day minutes  total day calls  \\\n",
       "0             yes                     25              265.1              110   \n",
       "1             yes                     26              161.6              123   \n",
       "2              no                      0              243.4              114   \n",
       "\n",
       "   total day charge  ...  total eve calls  total eve charge  \\\n",
       "0             45.07  ...               99             16.78   \n",
       "1             27.47  ...              103             16.62   \n",
       "2             41.38  ...              110             10.30   \n",
       "\n",
       "   total night minutes  total night calls  total night charge  \\\n",
       "0                244.7                 91               11.01   \n",
       "1                254.4                103               11.45   \n",
       "2                162.6                104                7.32   \n",
       "\n",
       "   total intl minutes  total intl calls  total intl charge  \\\n",
       "0                10.0                 3               2.70   \n",
       "1                13.7                 3               3.70   \n",
       "2                12.2                 5               3.29   \n",
       "\n",
       "   customer service calls  churn  \n",
       "0                       1  False  \n",
       "1                       1  False  \n",
       "2                       0  False  \n",
       "\n",
       "[3 rows x 21 columns]"
      ]
     },
     "execution_count": 2,
     "metadata": {},
     "output_type": "execute_result"
    }
   ],
   "source": [
    "df.head(3)"
   ]
  },
  {
   "cell_type": "code",
   "execution_count": 3,
   "metadata": {},
   "outputs": [
    {
     "name": "stdout",
     "output_type": "stream",
     "text": [
      "<class 'pandas.core.frame.DataFrame'>\n",
      "RangeIndex: 3333 entries, 0 to 3332\n",
      "Data columns (total 21 columns):\n",
      " #   Column                  Non-Null Count  Dtype  \n",
      "---  ------                  --------------  -----  \n",
      " 0   state                   3333 non-null   object \n",
      " 1   account length          3333 non-null   int64  \n",
      " 2   area code               3333 non-null   int64  \n",
      " 3   phone number            3333 non-null   object \n",
      " 4   international plan      3333 non-null   object \n",
      " 5   voice mail plan         3333 non-null   object \n",
      " 6   number vmail messages   3333 non-null   int64  \n",
      " 7   total day minutes       3333 non-null   float64\n",
      " 8   total day calls         3333 non-null   int64  \n",
      " 9   total day charge        3333 non-null   float64\n",
      " 10  total eve minutes       3333 non-null   float64\n",
      " 11  total eve calls         3333 non-null   int64  \n",
      " 12  total eve charge        3333 non-null   float64\n",
      " 13  total night minutes     3333 non-null   float64\n",
      " 14  total night calls       3333 non-null   int64  \n",
      " 15  total night charge      3333 non-null   float64\n",
      " 16  total intl minutes      3333 non-null   float64\n",
      " 17  total intl calls        3333 non-null   int64  \n",
      " 18  total intl charge       3333 non-null   float64\n",
      " 19  customer service calls  3333 non-null   int64  \n",
      " 20  churn                   3333 non-null   bool   \n",
      "dtypes: bool(1), float64(8), int64(8), object(4)\n",
      "memory usage: 524.2+ KB\n"
     ]
    }
   ],
   "source": [
    "df.info()"
   ]
  },
  {
   "cell_type": "code",
   "execution_count": 4,
   "metadata": {},
   "outputs": [
    {
     "data": {
      "text/plain": [
       "False    2850\n",
       "True      483\n",
       "Name: churn, dtype: int64"
      ]
     },
     "execution_count": 4,
     "metadata": {},
     "output_type": "execute_result"
    }
   ],
   "source": [
    "df['churn'].value_counts()"
   ]
  },
  {
   "cell_type": "code",
   "execution_count": 5,
   "metadata": {},
   "outputs": [
    {
     "data": {
      "text/plain": [
       "0.14"
      ]
     },
     "execution_count": 5,
     "metadata": {},
     "output_type": "execute_result"
    }
   ],
   "source": [
    "round(483/(483+2850),2)"
   ]
  },
  {
   "cell_type": "code",
   "execution_count": 6,
   "metadata": {},
   "outputs": [],
   "source": [
    "df['churn'] = df['churn'].astype(int)"
   ]
  },
  {
   "cell_type": "code",
   "execution_count": 7,
   "metadata": {},
   "outputs": [],
   "source": [
    "df['international plan'] = df['international plan'].replace(['no'],0)\n",
    "df['international plan'] = df['international plan'].replace(['yes'],1)"
   ]
  },
  {
   "cell_type": "code",
   "execution_count": 8,
   "metadata": {},
   "outputs": [],
   "source": [
    "df['voice mail plan'] = df['voice mail plan'].replace(['no'],0)\n",
    "df['voice mail plan'] = df['voice mail plan'].replace(['yes'],1)"
   ]
  },
  {
   "cell_type": "code",
   "execution_count": 9,
   "metadata": {},
   "outputs": [],
   "source": [
    "df['international plan'] = df['international plan'].astype(int)\n",
    "df['voice mail plan'] = df['voice mail plan'].astype(int)"
   ]
  },
  {
   "cell_type": "code",
   "execution_count": 10,
   "metadata": {},
   "outputs": [],
   "source": [
    "df.columns=df.columns.map(lambda x: x.replace('.','_').replace(' ','_').replace(',','_').replace('[','').replace(']','').replace('(','').replace(')',''))"
   ]
  },
  {
   "cell_type": "code",
   "execution_count": 11,
   "metadata": {},
   "outputs": [],
   "source": [
    "df.drop(columns=['state'], inplace = True)\n",
    "df.drop(columns=['phone_number'], inplace = True)"
   ]
  },
  {
   "cell_type": "markdown",
   "metadata": {},
   "source": [
    "## 1. Linear regression"
   ]
  },
  {
   "cell_type": "code",
   "execution_count": 12,
   "metadata": {},
   "outputs": [
    {
     "data": {
      "text/html": [
       "<table class=\"simpletable\">\n",
       "<caption>OLS Regression Results</caption>\n",
       "<tr>\n",
       "  <th>Dep. Variable:</th>          <td>churn</td>      <th>  R-squared:         </th> <td>   0.181</td> \n",
       "</tr>\n",
       "<tr>\n",
       "  <th>Model:</th>                   <td>OLS</td>       <th>  Adj. R-squared:    </th> <td>   0.176</td> \n",
       "</tr>\n",
       "<tr>\n",
       "  <th>Method:</th>             <td>Least Squares</td>  <th>  F-statistic:       </th> <td>   40.60</td> \n",
       "</tr>\n",
       "<tr>\n",
       "  <th>Date:</th>             <td>Thu, 31 Dec 2020</td> <th>  Prob (F-statistic):</th> <td>6.43e-129</td>\n",
       "</tr>\n",
       "<tr>\n",
       "  <th>Time:</th>                 <td>20:44:30</td>     <th>  Log-Likelihood:    </th> <td> -917.28</td> \n",
       "</tr>\n",
       "<tr>\n",
       "  <th>No. Observations:</th>      <td>  3333</td>      <th>  AIC:               </th> <td>   1873.</td> \n",
       "</tr>\n",
       "<tr>\n",
       "  <th>Df Residuals:</th>          <td>  3314</td>      <th>  BIC:               </th> <td>   1989.</td> \n",
       "</tr>\n",
       "<tr>\n",
       "  <th>Df Model:</th>              <td>    18</td>      <th>                     </th>     <td> </td>    \n",
       "</tr>\n",
       "<tr>\n",
       "  <th>Covariance Type:</th>      <td>nonrobust</td>    <th>                     </th>     <td> </td>    \n",
       "</tr>\n",
       "</table>\n",
       "<table class=\"simpletable\">\n",
       "<tr>\n",
       "             <td></td>               <th>coef</th>     <th>std err</th>      <th>t</th>      <th>P>|t|</th>  <th>[0.025</th>    <th>0.975]</th>  \n",
       "</tr>\n",
       "<tr>\n",
       "  <th>Intercept</th>              <td>   -0.4416</td> <td>    0.088</td> <td>   -5.012</td> <td> 0.000</td> <td>   -0.614</td> <td>   -0.269</td>\n",
       "</tr>\n",
       "<tr>\n",
       "  <th>account_length</th>         <td>    0.0001</td> <td>    0.000</td> <td>    0.735</td> <td> 0.463</td> <td>   -0.000</td> <td>    0.000</td>\n",
       "</tr>\n",
       "<tr>\n",
       "  <th>area_code</th>              <td>-8.072e-05</td> <td>    0.000</td> <td>   -0.616</td> <td> 0.538</td> <td>   -0.000</td> <td>    0.000</td>\n",
       "</tr>\n",
       "<tr>\n",
       "  <th>international_plan</th>     <td>    0.3023</td> <td>    0.019</td> <td>   16.070</td> <td> 0.000</td> <td>    0.265</td> <td>    0.339</td>\n",
       "</tr>\n",
       "<tr>\n",
       "  <th>voice_mail_plan</th>        <td>   -0.1373</td> <td>    0.043</td> <td>   -3.216</td> <td> 0.001</td> <td>   -0.221</td> <td>   -0.054</td>\n",
       "</tr>\n",
       "<tr>\n",
       "  <th>number_vmail_messages</th>  <td>    0.0020</td> <td>    0.001</td> <td>    1.415</td> <td> 0.157</td> <td>   -0.001</td> <td>    0.005</td>\n",
       "</tr>\n",
       "<tr>\n",
       "  <th>total_day_minutes</th>      <td>    0.0342</td> <td>    0.329</td> <td>    0.104</td> <td> 0.917</td> <td>   -0.611</td> <td>    0.679</td>\n",
       "</tr>\n",
       "<tr>\n",
       "  <th>total_day_calls</th>        <td>    0.0003</td> <td>    0.000</td> <td>    1.159</td> <td> 0.246</td> <td>   -0.000</td> <td>    0.001</td>\n",
       "</tr>\n",
       "<tr>\n",
       "  <th>total_day_charge</th>       <td>   -0.1935</td> <td>    1.935</td> <td>   -0.100</td> <td> 0.920</td> <td>   -3.987</td> <td>    3.601</td>\n",
       "</tr>\n",
       "<tr>\n",
       "  <th>total_eve_minutes</th>      <td>    0.0939</td> <td>    0.163</td> <td>    0.575</td> <td> 0.565</td> <td>   -0.226</td> <td>    0.414</td>\n",
       "</tr>\n",
       "<tr>\n",
       "  <th>total_eve_calls</th>        <td> 8.013e-05</td> <td>    0.000</td> <td>    0.288</td> <td> 0.773</td> <td>   -0.000</td> <td>    0.001</td>\n",
       "</tr>\n",
       "<tr>\n",
       "  <th>total_eve_charge</th>       <td>   -1.0973</td> <td>    1.922</td> <td>   -0.571</td> <td> 0.568</td> <td>   -4.866</td> <td>    2.672</td>\n",
       "</tr>\n",
       "<tr>\n",
       "  <th>total_night_minutes</th>    <td>   -0.0375</td> <td>    0.087</td> <td>   -0.428</td> <td> 0.668</td> <td>   -0.209</td> <td>    0.134</td>\n",
       "</tr>\n",
       "<tr>\n",
       "  <th>total_night_calls</th>      <td> 7.288e-05</td> <td>    0.000</td> <td>    0.257</td> <td> 0.797</td> <td>   -0.000</td> <td>    0.001</td>\n",
       "</tr>\n",
       "<tr>\n",
       "  <th>total_night_charge</th>     <td>    0.8398</td> <td>    1.944</td> <td>    0.432</td> <td> 0.666</td> <td>   -2.972</td> <td>    4.652</td>\n",
       "</tr>\n",
       "<tr>\n",
       "  <th>total_intl_minutes</th>     <td>   -0.3980</td> <td>    0.521</td> <td>   -0.763</td> <td> 0.445</td> <td>   -1.420</td> <td>    0.624</td>\n",
       "</tr>\n",
       "<tr>\n",
       "  <th>total_intl_calls</th>       <td>   -0.0082</td> <td>    0.002</td> <td>   -3.646</td> <td> 0.000</td> <td>   -0.013</td> <td>   -0.004</td>\n",
       "</tr>\n",
       "<tr>\n",
       "  <th>total_intl_charge</th>      <td>    1.5035</td> <td>    1.931</td> <td>    0.779</td> <td> 0.436</td> <td>   -2.282</td> <td>    5.289</td>\n",
       "</tr>\n",
       "<tr>\n",
       "  <th>customer_service_calls</th> <td>    0.0582</td> <td>    0.004</td> <td>   13.805</td> <td> 0.000</td> <td>    0.050</td> <td>    0.066</td>\n",
       "</tr>\n",
       "</table>\n",
       "<table class=\"simpletable\">\n",
       "<tr>\n",
       "  <th>Omnibus:</th>       <td>820.813</td> <th>  Durbin-Watson:     </th> <td>   1.971</td>\n",
       "</tr>\n",
       "<tr>\n",
       "  <th>Prob(Omnibus):</th> <td> 0.000</td>  <th>  Jarque-Bera (JB):  </th> <td>1611.571</td>\n",
       "</tr>\n",
       "<tr>\n",
       "  <th>Skew:</th>          <td> 1.499</td>  <th>  Prob(JB):          </th> <td>    0.00</td>\n",
       "</tr>\n",
       "<tr>\n",
       "  <th>Kurtosis:</th>      <td> 4.616</td>  <th>  Cond. No.          </th> <td>2.14e+05</td>\n",
       "</tr>\n",
       "</table><br/><br/>Warnings:<br/>[1] Standard Errors assume that the covariance matrix of the errors is correctly specified.<br/>[2] The condition number is large, 2.14e+05. This might indicate that there are<br/>strong multicollinearity or other numerical problems."
      ],
      "text/plain": [
       "<class 'statsmodels.iolib.summary.Summary'>\n",
       "\"\"\"\n",
       "                            OLS Regression Results                            \n",
       "==============================================================================\n",
       "Dep. Variable:                  churn   R-squared:                       0.181\n",
       "Model:                            OLS   Adj. R-squared:                  0.176\n",
       "Method:                 Least Squares   F-statistic:                     40.60\n",
       "Date:                Thu, 31 Dec 2020   Prob (F-statistic):          6.43e-129\n",
       "Time:                        20:44:30   Log-Likelihood:                -917.28\n",
       "No. Observations:                3333   AIC:                             1873.\n",
       "Df Residuals:                    3314   BIC:                             1989.\n",
       "Df Model:                          18                                         \n",
       "Covariance Type:            nonrobust                                         \n",
       "==========================================================================================\n",
       "                             coef    std err          t      P>|t|      [0.025      0.975]\n",
       "------------------------------------------------------------------------------------------\n",
       "Intercept                 -0.4416      0.088     -5.012      0.000      -0.614      -0.269\n",
       "account_length             0.0001      0.000      0.735      0.463      -0.000       0.000\n",
       "area_code              -8.072e-05      0.000     -0.616      0.538      -0.000       0.000\n",
       "international_plan         0.3023      0.019     16.070      0.000       0.265       0.339\n",
       "voice_mail_plan           -0.1373      0.043     -3.216      0.001      -0.221      -0.054\n",
       "number_vmail_messages      0.0020      0.001      1.415      0.157      -0.001       0.005\n",
       "total_day_minutes          0.0342      0.329      0.104      0.917      -0.611       0.679\n",
       "total_day_calls            0.0003      0.000      1.159      0.246      -0.000       0.001\n",
       "total_day_charge          -0.1935      1.935     -0.100      0.920      -3.987       3.601\n",
       "total_eve_minutes          0.0939      0.163      0.575      0.565      -0.226       0.414\n",
       "total_eve_calls         8.013e-05      0.000      0.288      0.773      -0.000       0.001\n",
       "total_eve_charge          -1.0973      1.922     -0.571      0.568      -4.866       2.672\n",
       "total_night_minutes       -0.0375      0.087     -0.428      0.668      -0.209       0.134\n",
       "total_night_calls       7.288e-05      0.000      0.257      0.797      -0.000       0.001\n",
       "total_night_charge         0.8398      1.944      0.432      0.666      -2.972       4.652\n",
       "total_intl_minutes        -0.3980      0.521     -0.763      0.445      -1.420       0.624\n",
       "total_intl_calls          -0.0082      0.002     -3.646      0.000      -0.013      -0.004\n",
       "total_intl_charge          1.5035      1.931      0.779      0.436      -2.282       5.289\n",
       "customer_service_calls     0.0582      0.004     13.805      0.000       0.050       0.066\n",
       "==============================================================================\n",
       "Omnibus:                      820.813   Durbin-Watson:                   1.971\n",
       "Prob(Omnibus):                  0.000   Jarque-Bera (JB):             1611.571\n",
       "Skew:                           1.499   Prob(JB):                         0.00\n",
       "Kurtosis:                       4.616   Cond. No.                     2.14e+05\n",
       "==============================================================================\n",
       "\n",
       "Warnings:\n",
       "[1] Standard Errors assume that the covariance matrix of the errors is correctly specified.\n",
       "[2] The condition number is large, 2.14e+05. This might indicate that there are\n",
       "strong multicollinearity or other numerical problems.\n",
       "\"\"\""
      ]
     },
     "execution_count": 12,
     "metadata": {},
     "output_type": "execute_result"
    }
   ],
   "source": [
    "outcome='churn'\n",
    "cols=[col for col in df.columns]\n",
    "cols.remove('churn')\n",
    "predictors='+'.join(cols)\n",
    "formula=outcome+'~'+predictors\n",
    "model=ols(formula=formula,data=df).fit()\n",
    "model.summary()"
   ]
  },
  {
   "cell_type": "markdown",
   "metadata": {},
   "source": [
    "This linear regression attempt is insufficient. Given that our outcome variable is a True/False, it is difficult to imagine that a linear regression would give us a close fit. In addition, most of the variables appear to be statistically insignificant, as their p-values are above .05. There are not many takeaways we can confidently make. Surely, we can do better with a different algorithm."
   ]
  },
  {
   "cell_type": "markdown",
   "metadata": {},
   "source": [
    "## 2. Logistic regression"
   ]
  },
  {
   "cell_type": "code",
   "execution_count": 13,
   "metadata": {},
   "outputs": [],
   "source": [
    "df.drop(columns=['account_length'], inplace = True)\n",
    "df.drop(columns=['area_code'], inplace = True)"
   ]
  },
  {
   "cell_type": "code",
   "execution_count": 14,
   "metadata": {},
   "outputs": [
    {
     "data": {
      "text/plain": [
       "(3333, 17)"
      ]
     },
     "execution_count": 14,
     "metadata": {},
     "output_type": "execute_result"
    }
   ],
   "source": [
    "# Create dummy variables\n",
    "relevant_columns = ['international_plan','voice_mail_plan','number_vmail_messages',\n",
    "                    'total_day_minutes','total_day_calls','total_day_charge',\n",
    "                    'total_eve_minutes','total_eve_calls','total_eve_charge',\n",
    "                   'total_night_minutes','total_night_calls','total_night_charge',\n",
    "                   'total_intl_minutes','total_intl_calls','total_intl_charge','customer_service_calls','churn']\n",
    "df_logistic = pd.get_dummies(df[relevant_columns], drop_first=True, dtype=float)\n",
    "\n",
    "df_logistic.shape"
   ]
  },
  {
   "cell_type": "code",
   "execution_count": 15,
   "metadata": {},
   "outputs": [
    {
     "data": {
      "text/plain": [
       "(3333, 17)"
      ]
     },
     "execution_count": 15,
     "metadata": {},
     "output_type": "execute_result"
    }
   ],
   "source": [
    "# Drop missing rows\n",
    "df_logistic = df_logistic.dropna()\n",
    "df_logistic.shape"
   ]
  },
  {
   "cell_type": "code",
   "execution_count": 16,
   "metadata": {},
   "outputs": [
    {
     "data": {
      "text/html": [
       "<div>\n",
       "<style scoped>\n",
       "    .dataframe tbody tr th:only-of-type {\n",
       "        vertical-align: middle;\n",
       "    }\n",
       "\n",
       "    .dataframe tbody tr th {\n",
       "        vertical-align: top;\n",
       "    }\n",
       "\n",
       "    .dataframe thead th {\n",
       "        text-align: right;\n",
       "    }\n",
       "</style>\n",
       "<table border=\"1\" class=\"dataframe\">\n",
       "  <thead>\n",
       "    <tr style=\"text-align: right;\">\n",
       "      <th></th>\n",
       "      <th>international_plan</th>\n",
       "      <th>voice_mail_plan</th>\n",
       "      <th>number_vmail_messages</th>\n",
       "      <th>total_day_minutes</th>\n",
       "      <th>total_day_calls</th>\n",
       "      <th>total_day_charge</th>\n",
       "      <th>total_eve_minutes</th>\n",
       "      <th>total_eve_calls</th>\n",
       "      <th>total_eve_charge</th>\n",
       "      <th>total_night_minutes</th>\n",
       "      <th>total_night_calls</th>\n",
       "      <th>total_night_charge</th>\n",
       "      <th>total_intl_minutes</th>\n",
       "      <th>total_intl_calls</th>\n",
       "      <th>total_intl_charge</th>\n",
       "      <th>customer_service_calls</th>\n",
       "      <th>churn</th>\n",
       "    </tr>\n",
       "  </thead>\n",
       "  <tbody>\n",
       "    <tr>\n",
       "      <th>0</th>\n",
       "      <td>0</td>\n",
       "      <td>1</td>\n",
       "      <td>25</td>\n",
       "      <td>265.1</td>\n",
       "      <td>110</td>\n",
       "      <td>45.07</td>\n",
       "      <td>197.4</td>\n",
       "      <td>99</td>\n",
       "      <td>16.78</td>\n",
       "      <td>244.7</td>\n",
       "      <td>91</td>\n",
       "      <td>11.01</td>\n",
       "      <td>10.0</td>\n",
       "      <td>3</td>\n",
       "      <td>2.70</td>\n",
       "      <td>1</td>\n",
       "      <td>0</td>\n",
       "    </tr>\n",
       "    <tr>\n",
       "      <th>1</th>\n",
       "      <td>0</td>\n",
       "      <td>1</td>\n",
       "      <td>26</td>\n",
       "      <td>161.6</td>\n",
       "      <td>123</td>\n",
       "      <td>27.47</td>\n",
       "      <td>195.5</td>\n",
       "      <td>103</td>\n",
       "      <td>16.62</td>\n",
       "      <td>254.4</td>\n",
       "      <td>103</td>\n",
       "      <td>11.45</td>\n",
       "      <td>13.7</td>\n",
       "      <td>3</td>\n",
       "      <td>3.70</td>\n",
       "      <td>1</td>\n",
       "      <td>0</td>\n",
       "    </tr>\n",
       "    <tr>\n",
       "      <th>2</th>\n",
       "      <td>0</td>\n",
       "      <td>0</td>\n",
       "      <td>0</td>\n",
       "      <td>243.4</td>\n",
       "      <td>114</td>\n",
       "      <td>41.38</td>\n",
       "      <td>121.2</td>\n",
       "      <td>110</td>\n",
       "      <td>10.30</td>\n",
       "      <td>162.6</td>\n",
       "      <td>104</td>\n",
       "      <td>7.32</td>\n",
       "      <td>12.2</td>\n",
       "      <td>5</td>\n",
       "      <td>3.29</td>\n",
       "      <td>0</td>\n",
       "      <td>0</td>\n",
       "    </tr>\n",
       "  </tbody>\n",
       "</table>\n",
       "</div>"
      ],
      "text/plain": [
       "   international_plan  voice_mail_plan  number_vmail_messages  \\\n",
       "0                   0                1                     25   \n",
       "1                   0                1                     26   \n",
       "2                   0                0                      0   \n",
       "\n",
       "   total_day_minutes  total_day_calls  total_day_charge  total_eve_minutes  \\\n",
       "0              265.1              110             45.07              197.4   \n",
       "1              161.6              123             27.47              195.5   \n",
       "2              243.4              114             41.38              121.2   \n",
       "\n",
       "   total_eve_calls  total_eve_charge  total_night_minutes  total_night_calls  \\\n",
       "0               99             16.78                244.7                 91   \n",
       "1              103             16.62                254.4                103   \n",
       "2              110             10.30                162.6                104   \n",
       "\n",
       "   total_night_charge  total_intl_minutes  total_intl_calls  \\\n",
       "0               11.01                10.0                 3   \n",
       "1               11.45                13.7                 3   \n",
       "2                7.32                12.2                 5   \n",
       "\n",
       "   total_intl_charge  customer_service_calls  churn  \n",
       "0               2.70                       1      0  \n",
       "1               3.70                       1      0  \n",
       "2               3.29                       0      0  "
      ]
     },
     "execution_count": 16,
     "metadata": {},
     "output_type": "execute_result"
    }
   ],
   "source": [
    "df_logistic.head(3)"
   ]
  },
  {
   "cell_type": "code",
   "execution_count": 17,
   "metadata": {},
   "outputs": [
    {
     "data": {
      "text/html": [
       "<div>\n",
       "<style scoped>\n",
       "    .dataframe tbody tr th:only-of-type {\n",
       "        vertical-align: middle;\n",
       "    }\n",
       "\n",
       "    .dataframe tbody tr th {\n",
       "        vertical-align: top;\n",
       "    }\n",
       "\n",
       "    .dataframe thead th {\n",
       "        text-align: right;\n",
       "    }\n",
       "</style>\n",
       "<table border=\"1\" class=\"dataframe\">\n",
       "  <thead>\n",
       "    <tr style=\"text-align: right;\">\n",
       "      <th></th>\n",
       "      <th>Correlation</th>\n",
       "    </tr>\n",
       "    <tr>\n",
       "      <th>Pairs</th>\n",
       "      <th></th>\n",
       "    </tr>\n",
       "  </thead>\n",
       "  <tbody>\n",
       "    <tr>\n",
       "      <th>(total_day_charge, total_day_minutes)</th>\n",
       "      <td>1.000000</td>\n",
       "    </tr>\n",
       "    <tr>\n",
       "      <th>(total_eve_charge, total_eve_minutes)</th>\n",
       "      <td>1.000000</td>\n",
       "    </tr>\n",
       "    <tr>\n",
       "      <th>(total_night_charge, total_night_minutes)</th>\n",
       "      <td>0.999999</td>\n",
       "    </tr>\n",
       "    <tr>\n",
       "      <th>(total_intl_charge, total_intl_minutes)</th>\n",
       "      <td>0.999993</td>\n",
       "    </tr>\n",
       "    <tr>\n",
       "      <th>(number_vmail_messages, voice_mail_plan)</th>\n",
       "      <td>0.956927</td>\n",
       "    </tr>\n",
       "  </tbody>\n",
       "</table>\n",
       "</div>"
      ],
      "text/plain": [
       "                                           Correlation\n",
       "Pairs                                                 \n",
       "(total_day_charge, total_day_minutes)         1.000000\n",
       "(total_eve_charge, total_eve_minutes)         1.000000\n",
       "(total_night_charge, total_night_minutes)     0.999999\n",
       "(total_intl_charge, total_intl_minutes)       0.999993\n",
       "(number_vmail_messages, voice_mail_plan)      0.956927"
      ]
     },
     "execution_count": 17,
     "metadata": {},
     "output_type": "execute_result"
    }
   ],
   "source": [
    "df_logistic_pairs = df.corr().abs().stack().reset_index().sort_values(0, ascending=False)\n",
    "df_logistic_pairs['Pairs'] = list(zip(df_logistic_pairs.level_0, df_logistic_pairs.level_1))\n",
    "df_logistic_pairs.set_index(['Pairs'], inplace = True)\n",
    "df_logistic_pairs.drop(columns=['level_1', 'level_0'], inplace = True)\n",
    "df_logistic_pairs.columns = ['Correlation']\n",
    "df_logistic_pairs.drop_duplicates(inplace=True)\n",
    "df_logistic_pairs[(df_logistic_pairs.Correlation>.65) & (df_logistic_pairs.Correlation<1)]"
   ]
  },
  {
   "cell_type": "code",
   "execution_count": 18,
   "metadata": {},
   "outputs": [],
   "source": [
    "#These are perfect or near-perfect correlations. Trying to get rid of multicollinearity.\n",
    "df_logistic.drop(columns=['total_day_minutes'], inplace = True)\n",
    "df_logistic.drop(columns=['total_eve_minutes'], inplace = True)\n",
    "df_logistic.drop(columns=['total_night_minutes'], inplace = True)\n",
    "df_logistic.drop(columns=['total_intl_minutes'], inplace = True)\n",
    "df_logistic.drop(columns=['number_vmail_messages'], inplace = True)\n",
    "#Regarding multicollinearity removal, this appears to be sufficient,\n",
    "#since no other pairs have a correlation coefficient above .65."
   ]
  },
  {
   "cell_type": "code",
   "execution_count": 19,
   "metadata": {},
   "outputs": [],
   "source": [
    "y = df_logistic['churn']\n",
    "X = df_logistic.drop(columns=['churn'], axis=1)"
   ]
  },
  {
   "cell_type": "code",
   "execution_count": 20,
   "metadata": {},
   "outputs": [],
   "source": [
    "X_train, X_test, y_train, y_test = train_test_split(X, y, random_state=0)"
   ]
  },
  {
   "cell_type": "code",
   "execution_count": 21,
   "metadata": {},
   "outputs": [],
   "source": [
    "scaler = StandardScaler()  \n",
    "scaler.fit(X_train)\n",
    "X_train_scaled = scaler.transform(X_train)  \n",
    "X_test_scaled = scaler.transform(X_test)"
   ]
  },
  {
   "cell_type": "code",
   "execution_count": 22,
   "metadata": {},
   "outputs": [],
   "source": [
    "logreg = LogisticRegression(fit_intercept=False, C=1e8, solver='liblinear')"
   ]
  },
  {
   "cell_type": "code",
   "execution_count": 23,
   "metadata": {},
   "outputs": [
    {
     "data": {
      "text/plain": [
       "LogisticRegression(C=100000000.0, fit_intercept=False, solver='liblinear')"
      ]
     },
     "execution_count": 23,
     "metadata": {},
     "output_type": "execute_result"
    }
   ],
   "source": [
    "logreg.fit(X_train, y_train)"
   ]
  },
  {
   "cell_type": "code",
   "execution_count": 24,
   "metadata": {},
   "outputs": [
    {
     "data": {
      "text/plain": [
       "LogisticRegression(C=100000000.0, fit_intercept=False, solver='liblinear')"
      ]
     },
     "execution_count": 24,
     "metadata": {},
     "output_type": "execute_result"
    }
   ],
   "source": [
    "model_log = logreg.fit(X_train_scaled, y_train)\n",
    "model_log"
   ]
  },
  {
   "cell_type": "code",
   "execution_count": 25,
   "metadata": {},
   "outputs": [],
   "source": [
    "y_hat_train = logreg.predict(X_train_scaled)\n",
    "y_hat_test = logreg.predict(X_test_scaled)"
   ]
  },
  {
   "cell_type": "code",
   "execution_count": 26,
   "metadata": {},
   "outputs": [
    {
     "name": "stdout",
     "output_type": "stream",
     "text": [
      "Optimization terminated successfully.\n",
      "         Current function value: 0.324624\n",
      "         Iterations 7\n"
     ]
    }
   ],
   "source": [
    "X = sm.tools.add_constant(X)\n",
    "logistic_model = sm.Logit(y, X)\n",
    "result = logistic_model.fit()"
   ]
  },
  {
   "cell_type": "code",
   "execution_count": 27,
   "metadata": {},
   "outputs": [
    {
     "data": {
      "text/html": [
       "<table class=\"simpletable\">\n",
       "<caption>Logit Regression Results</caption>\n",
       "<tr>\n",
       "  <th>Dep. Variable:</th>         <td>churn</td>      <th>  No. Observations:  </th>   <td>  3333</td>  \n",
       "</tr>\n",
       "<tr>\n",
       "  <th>Model:</th>                 <td>Logit</td>      <th>  Df Residuals:      </th>   <td>  3321</td>  \n",
       "</tr>\n",
       "<tr>\n",
       "  <th>Method:</th>                 <td>MLE</td>       <th>  Df Model:          </th>   <td>    11</td>  \n",
       "</tr>\n",
       "<tr>\n",
       "  <th>Date:</th>            <td>Thu, 31 Dec 2020</td> <th>  Pseudo R-squ.:     </th>   <td>0.2155</td>  \n",
       "</tr>\n",
       "<tr>\n",
       "  <th>Time:</th>                <td>20:44:30</td>     <th>  Log-Likelihood:    </th>  <td> -1082.0</td> \n",
       "</tr>\n",
       "<tr>\n",
       "  <th>converged:</th>             <td>True</td>       <th>  LL-Null:           </th>  <td> -1379.1</td> \n",
       "</tr>\n",
       "<tr>\n",
       "  <th>Covariance Type:</th>     <td>nonrobust</td>    <th>  LLR p-value:       </th> <td>2.266e-120</td>\n",
       "</tr>\n",
       "</table>\n",
       "<table class=\"simpletable\">\n",
       "<tr>\n",
       "             <td></td>               <th>coef</th>     <th>std err</th>      <th>z</th>      <th>P>|z|</th>  <th>[0.025</th>    <th>0.975]</th>  \n",
       "</tr>\n",
       "<tr>\n",
       "  <th>const</th>                  <td>   -8.5299</td> <td>    0.708</td> <td>  -12.044</td> <td> 0.000</td> <td>   -9.918</td> <td>   -7.142</td>\n",
       "</tr>\n",
       "<tr>\n",
       "  <th>international_plan</th>     <td>    2.0423</td> <td>    0.145</td> <td>   14.064</td> <td> 0.000</td> <td>    1.758</td> <td>    2.327</td>\n",
       "</tr>\n",
       "<tr>\n",
       "  <th>voice_mail_plan</th>        <td>   -0.9382</td> <td>    0.145</td> <td>   -6.474</td> <td> 0.000</td> <td>   -1.222</td> <td>   -0.654</td>\n",
       "</tr>\n",
       "<tr>\n",
       "  <th>total_day_calls</th>        <td>    0.0033</td> <td>    0.003</td> <td>    1.187</td> <td> 0.235</td> <td>   -0.002</td> <td>    0.009</td>\n",
       "</tr>\n",
       "<tr>\n",
       "  <th>total_day_charge</th>       <td>    0.0763</td> <td>    0.006</td> <td>   11.986</td> <td> 0.000</td> <td>    0.064</td> <td>    0.089</td>\n",
       "</tr>\n",
       "<tr>\n",
       "  <th>total_eve_calls</th>        <td>    0.0011</td> <td>    0.003</td> <td>    0.381</td> <td> 0.703</td> <td>   -0.004</td> <td>    0.006</td>\n",
       "</tr>\n",
       "<tr>\n",
       "  <th>total_eve_charge</th>       <td>    0.0849</td> <td>    0.013</td> <td>    6.322</td> <td> 0.000</td> <td>    0.059</td> <td>    0.111</td>\n",
       "</tr>\n",
       "<tr>\n",
       "  <th>total_night_calls</th>      <td>    0.0004</td> <td>    0.003</td> <td>    0.154</td> <td> 0.877</td> <td>   -0.005</td> <td>    0.006</td>\n",
       "</tr>\n",
       "<tr>\n",
       "  <th>total_night_charge</th>     <td>    0.0809</td> <td>    0.025</td> <td>    3.283</td> <td> 0.001</td> <td>    0.033</td> <td>    0.129</td>\n",
       "</tr>\n",
       "<tr>\n",
       "  <th>total_intl_calls</th>       <td>   -0.0909</td> <td>    0.025</td> <td>   -3.645</td> <td> 0.000</td> <td>   -0.140</td> <td>   -0.042</td>\n",
       "</tr>\n",
       "<tr>\n",
       "  <th>total_intl_charge</th>      <td>    0.3229</td> <td>    0.075</td> <td>    4.281</td> <td> 0.000</td> <td>    0.175</td> <td>    0.471</td>\n",
       "</tr>\n",
       "<tr>\n",
       "  <th>customer_service_calls</th> <td>    0.5143</td> <td>    0.039</td> <td>   13.125</td> <td> 0.000</td> <td>    0.438</td> <td>    0.591</td>\n",
       "</tr>\n",
       "</table>"
      ],
      "text/plain": [
       "<class 'statsmodels.iolib.summary.Summary'>\n",
       "\"\"\"\n",
       "                           Logit Regression Results                           \n",
       "==============================================================================\n",
       "Dep. Variable:                  churn   No. Observations:                 3333\n",
       "Model:                          Logit   Df Residuals:                     3321\n",
       "Method:                           MLE   Df Model:                           11\n",
       "Date:                Thu, 31 Dec 2020   Pseudo R-squ.:                  0.2155\n",
       "Time:                        20:44:30   Log-Likelihood:                -1082.0\n",
       "converged:                       True   LL-Null:                       -1379.1\n",
       "Covariance Type:            nonrobust   LLR p-value:                2.266e-120\n",
       "==========================================================================================\n",
       "                             coef    std err          z      P>|z|      [0.025      0.975]\n",
       "------------------------------------------------------------------------------------------\n",
       "const                     -8.5299      0.708    -12.044      0.000      -9.918      -7.142\n",
       "international_plan         2.0423      0.145     14.064      0.000       1.758       2.327\n",
       "voice_mail_plan           -0.9382      0.145     -6.474      0.000      -1.222      -0.654\n",
       "total_day_calls            0.0033      0.003      1.187      0.235      -0.002       0.009\n",
       "total_day_charge           0.0763      0.006     11.986      0.000       0.064       0.089\n",
       "total_eve_calls            0.0011      0.003      0.381      0.703      -0.004       0.006\n",
       "total_eve_charge           0.0849      0.013      6.322      0.000       0.059       0.111\n",
       "total_night_calls          0.0004      0.003      0.154      0.877      -0.005       0.006\n",
       "total_night_charge         0.0809      0.025      3.283      0.001       0.033       0.129\n",
       "total_intl_calls          -0.0909      0.025     -3.645      0.000      -0.140      -0.042\n",
       "total_intl_charge          0.3229      0.075      4.281      0.000       0.175       0.471\n",
       "customer_service_calls     0.5143      0.039     13.125      0.000       0.438       0.591\n",
       "==========================================================================================\n",
       "\"\"\""
      ]
     },
     "execution_count": 27,
     "metadata": {},
     "output_type": "execute_result"
    }
   ],
   "source": [
    "result.summary()"
   ]
  },
  {
   "cell_type": "code",
   "execution_count": 28,
   "metadata": {},
   "outputs": [],
   "source": [
    "from sklearn.metrics import roc_curve, auc, plot_confusion_matrix, mean_squared_error, mean_absolute_error, classification_report,precision_score, recall_score, accuracy_score, f1_score\n",
    "\n",
    "def performance_results(trainx, trainy, train_prediction, testx, testy, test_prediction, model):  \n",
    "    \n",
    "    print(\"\\n\")\n",
    "    \n",
    "    print(\"Train Score Results\")\n",
    "    print(classification_report(trainy, train_prediction))       \n",
    "    print(f'Train Set Accuracy: {accuracy_score(trainy, train_prediction):.4f}')\n",
    "    print(f'Train Set Recall: {recall_score(trainy, train_prediction):.4f}')\n",
    "    print(f'Train Set Precision: {precision_score(trainy, train_prediction):.4f}')\n",
    "    print(f'Train Set F1: {f1_score(trainy, train_prediction):.4f}')\n",
    "\n",
    "    print(\"\\n\")\n",
    "    \n",
    "    print(\"Test Score Results\")    \n",
    "    print(classification_report(testy, test_prediction))       \n",
    "    print(f'Test Set Accuracy: {accuracy_score(testy, test_prediction):.4f}')\n",
    "    print(f'Test Set Recall: {recall_score(testy, test_prediction):.4f}')\n",
    "    print(f'Test Set Precision: {precision_score(testy, test_prediction):.4f}')\n",
    "    print(f'Test Set F1: {f1_score(testy, test_prediction):.4f}')\n",
    "    \n",
    "    print(\"\\n\")\n",
    "    print(\"Test Set Confusion Matrix\")\n",
    "    plot_confusion_matrix(model, testx, testy, cmap=plt.cm.Blues)"
   ]
  },
  {
   "cell_type": "code",
   "execution_count": 29,
   "metadata": {},
   "outputs": [
    {
     "name": "stdout",
     "output_type": "stream",
     "text": [
      "\n",
      "\n",
      "Train Score Results\n",
      "              precision    recall  f1-score   support\n",
      "\n",
      "           0       0.00      0.00      0.00      2131\n",
      "           1       0.15      1.00      0.26       368\n",
      "\n",
      "    accuracy                           0.15      2499\n",
      "   macro avg       0.07      0.50      0.13      2499\n",
      "weighted avg       0.02      0.15      0.04      2499\n",
      "\n",
      "Train Set Accuracy: 0.1473\n",
      "Train Set Recall: 1.0000\n",
      "Train Set Precision: 0.1473\n",
      "Train Set F1: 0.2567\n",
      "\n",
      "\n",
      "Test Score Results\n",
      "              precision    recall  f1-score   support\n",
      "\n",
      "           0       0.00      0.00      0.00       719\n",
      "           1       0.14      1.00      0.24       115\n",
      "\n",
      "    accuracy                           0.14       834\n",
      "   macro avg       0.07      0.50      0.12       834\n",
      "weighted avg       0.02      0.14      0.03       834\n",
      "\n",
      "Test Set Accuracy: 0.1379\n",
      "Test Set Recall: 1.0000\n",
      "Test Set Precision: 0.1379\n",
      "Test Set F1: 0.2424\n",
      "\n",
      "\n",
      "Test Set Confusion Matrix\n"
     ]
    },
    {
     "data": {
      "image/png": "[encoded data removed]",
      "text/plain": [
       "<Figure size 432x288 with 2 Axes>"
      ]
     },
     "metadata": {
      "needs_background": "light"
     },
     "output_type": "display_data"
    }
   ],
   "source": [
    "#Predict the model, evaluate results\n",
    "test_preds = logreg.predict(X_test)\n",
    "train_preds = logreg.predict(X_train)\n",
    "performance_results(X_train, y_train, train_preds, X_test, y_test, test_preds, logreg)"
   ]
  },
  {
   "cell_type": "markdown",
   "metadata": {},
   "source": [
    "This is the first of many 2x2 confusion matrices we will observe."
   ]
  },
  {
   "cell_type": "markdown",
   "metadata": {},
   "source": [
    "The top-left and bottom-right corners represent correct predictions (top-left: customer remained with SyriaTel, which the model predicted; bottom-right: customer did not remain with SyriaTel, which the model predicted)."
   ]
  },
  {
   "cell_type": "markdown",
   "metadata": {},
   "source": [
    "The top-right and bottom-left corners represent incorrect predictions (top-right: customer remained with SyriaTel, while the model predicted the customer would switch; bottom-left: customer did not remain with SyriaTel, while the model predicted the customer would remain)."
   ]
  },
  {
   "cell_type": "code",
   "execution_count": 30,
   "metadata": {},
   "outputs": [
    {
     "data": {
      "text/plain": [
       "0    2850\n",
       "1     483\n",
       "Name: churn, dtype: int64"
      ]
     },
     "execution_count": 30,
     "metadata": {},
     "output_type": "execute_result"
    }
   ],
   "source": [
    "df_logistic['churn'].value_counts()"
   ]
  },
  {
   "cell_type": "code",
   "execution_count": 31,
   "metadata": {},
   "outputs": [],
   "source": [
    "y = df_logistic['churn']\n",
    "X = df_logistic.drop(columns=['churn'], axis=1)\n",
    "X_train, X_test, y_train, y_test = train_test_split(X, y, random_state=0)"
   ]
  },
  {
   "cell_type": "code",
   "execution_count": 32,
   "metadata": {},
   "outputs": [
    {
     "name": "stdout",
     "output_type": "stream",
     "text": [
      "0    2131\n",
      "1     368\n",
      "Name: churn, dtype: int64\n",
      "0    719\n",
      "1    115\n",
      "Name: churn, dtype: int64\n"
     ]
    }
   ],
   "source": [
    "print(y_train.value_counts())\n",
    "print(y_test.value_counts())"
   ]
  },
  {
   "cell_type": "code",
   "execution_count": 33,
   "metadata": {},
   "outputs": [
    {
     "name": "stdout",
     "output_type": "stream",
     "text": [
      "AUC: 0.7627381024369595\n"
     ]
    },
    {
     "data": {
      "image/png": "[encoded data removed]",
      "text/plain": [
       "<Figure size 504x360 with 1 Axes>"
      ]
     },
     "metadata": {
      "needs_background": "light"
     },
     "output_type": "display_data"
    }
   ],
   "source": [
    "logreg=LogisticRegression(fit_intercept=False)\n",
    "y_score=logreg.fit(X_train, y_train).decision_function(X_test)\n",
    "fpr, tpr, thresholds=roc_curve(y_test, y_score)\n",
    "print('AUC: {}'.format(auc(fpr, tpr)))\n",
    "plt.figure(figsize=(7, 5))\n",
    "plt.plot(fpr, tpr, color='blue', lw=2, label='ROC curve')\n",
    "plt.plot([0, 1], [0, 1], color='red', lw=2, linestyle='-')\n",
    "plt.xlim([0, 1])\n",
    "plt.ylim([0, 1])\n",
    "plt.xlabel('False Positive Rate')\n",
    "plt.ylabel('True Positive Rate')\n",
    "plt.title('Receiver operating characteristic (ROC) Curve')\n",
    "plt.legend(loc='lower right')\n",
    "plt.show()"
   ]
  },
  {
   "cell_type": "code",
   "execution_count": 34,
   "metadata": {},
   "outputs": [
    {
     "name": "stdout",
     "output_type": "stream",
     "text": [
      "LogisticRegression(C=0.0001, fit_intercept=False, solver='liblinear')\n",
      "AUC for 0.0001: 0.5655923081574651\n",
      "\n",
      "\n",
      "LogisticRegression(C=0.001, fit_intercept=False, solver='liblinear')\n",
      "AUC for 0.001: 0.6269093547801898\n",
      "\n",
      "\n",
      "LogisticRegression(C=1, fit_intercept=False, solver='liblinear')\n",
      "AUC for 1: 0.7630888311060048\n",
      "\n",
      "\n",
      "LogisticRegression(C=1000, fit_intercept=False, solver='liblinear')\n",
      "AUC for 1000: 0.7640926407449959\n",
      "\n",
      "\n"
     ]
    },
    {
     "data": {
      "image/png": "[encoded data removed]",
      "text/plain": [
       "<Figure size 504x360 with 1 Axes>"
      ]
     },
     "metadata": {
      "needs_background": "light"
     },
     "output_type": "display_data"
    }
   ],
   "source": [
    "C_param_range = [.0001, .001, 1, 1000]\n",
    "names = [.0001, .001, 1, 1000]\n",
    "colors = sns.color_palette('Set3')\n",
    "plt.figure(figsize=(7, 5))\n",
    "for n, c in enumerate(C_param_range):\n",
    "    logreg = LogisticRegression(fit_intercept=False, C=c, solver='liblinear')\n",
    "    model_log = logreg.fit(X_train, y_train)\n",
    "    print(model_log)\n",
    "    y_hat_test=logreg.predict(X_test)\n",
    "    y_score=logreg.fit(X_train, y_train).decision_function(X_test)\n",
    "    fpr, tpr, thresholds = roc_curve(y_test, y_score)\n",
    "    print('AUC for {}: {}'.format(names[n], auc(fpr, tpr)))\n",
    "    print('\\n')\n",
    "    lw=2\n",
    "    plt.plot(fpr, tpr, color=colors[n],\n",
    "             lw=2, label='ROC curve Normalization Weight: {}'.format(names[n]))\n",
    "plt.plot([0, 1], [0, 1], color='red', lw=2, linestyle='-')\n",
    "plt.xlim([0, 1])\n",
    "plt.ylim([0, 1])\n",
    "plt.xlabel('False Positive Rate')\n",
    "plt.ylabel('True Positive Rate')\n",
    "plt.title('Receiver operating characteristic (ROC) Curve')\n",
    "plt.legend(loc='lower right')\n",
    "plt.show()"
   ]
  },
  {
   "cell_type": "code",
   "execution_count": 35,
   "metadata": {},
   "outputs": [
    {
     "name": "stdout",
     "output_type": "stream",
     "text": [
      "Before:\n",
      "0    2131\n",
      "1     368\n",
      "Name: churn, dtype: int64\n",
      "\n",
      "\n",
      "After:\n",
      "1    2131\n",
      "0    2131\n",
      "Name: churn, dtype: int64\n"
     ]
    }
   ],
   "source": [
    "print('Before:')\n",
    "print(y_train.value_counts()) \n",
    "print('\\n')\n",
    "\n",
    "X_train_resampled, y_train_resampled = SMOTE().fit_resample(X_train, y_train) \n",
    "\n",
    "print('After:')\n",
    "print(pd.Series(y_train_resampled).value_counts()) "
   ]
  },
  {
   "cell_type": "code",
   "execution_count": 36,
   "metadata": {},
   "outputs": [
    {
     "name": "stdout",
     "output_type": "stream",
     "text": [
      "LogisticRegression(C=0.0001, fit_intercept=False, solver='liblinear')\n",
      "AUC for 0.0001: 0.6309124992441193\n",
      "\n",
      "\n",
      "LogisticRegression(C=0.001, fit_intercept=False, solver='liblinear')\n",
      "AUC for 0.001: 0.6911773598597085\n",
      "\n",
      "\n",
      "LogisticRegression(C=1, fit_intercept=False, solver='liblinear')\n",
      "AUC for 1: 0.7662816714035193\n",
      "\n",
      "\n",
      "LogisticRegression(C=1000, fit_intercept=False, solver='liblinear')\n",
      "AUC for 1000: 0.7666444941646007\n",
      "\n",
      "\n"
     ]
    },
    {
     "data": {
      "image/png": "[encoded data removed]",
      "text/plain": [
       "<Figure size 504x360 with 1 Axes>"
      ]
     },
     "metadata": {
      "needs_background": "light"
     },
     "output_type": "display_data"
    }
   ],
   "source": [
    "C_param_range = [.0001, .001, 1, 1000]\n",
    "names = [.0001, .001, 1, 1000]\n",
    "colors = sns.color_palette('Set3', n_colors=len(names))\n",
    "plt.figure(figsize=(7, 5))\n",
    "for n, c in enumerate(C_param_range):\n",
    "    logreg = LogisticRegression(fit_intercept=False, C=c, solver='liblinear')\n",
    "    model_log = logreg.fit(X_train_resampled, y_train_resampled)\n",
    "    print(model_log)\n",
    "    y_hat_test = logreg.predict(X_test)\n",
    "    y_score = logreg.fit(X_train_resampled, y_train_resampled).decision_function(X_test)\n",
    "    fpr, tpr, thresholds = roc_curve(y_test, y_score)\n",
    "    print('AUC for {}: {}'.format(names[n], auc(fpr, tpr)))\n",
    "    print('\\n')\n",
    "    lw=2\n",
    "    plt.plot(fpr, tpr, color=colors[n],\n",
    "             lw=2, label='ROC curve Regularization Weight: {}'.format(names[n]))\n",
    "plt.plot([0, 1], [0, 1], color='red', lw=lw, linestyle='-')\n",
    "plt.xlim([0, 1])\n",
    "plt.ylim([0, 1])\n",
    "plt.xlabel('False Positive Rate')\n",
    "plt.ylabel('True Positive Rate')\n",
    "plt.title('Receiver operating characteristic (ROC) Curve')\n",
    "plt.legend(loc='lower right')\n",
    "plt.show()"
   ]
  },
  {
   "cell_type": "code",
   "execution_count": 37,
   "metadata": {},
   "outputs": [
    {
     "name": "stdout",
     "output_type": "stream",
     "text": [
      "\n",
      "\n",
      "Train Score Results\n",
      "              precision    recall  f1-score   support\n",
      "\n",
      "           0       0.94      0.68      0.78      2131\n",
      "           1       0.28      0.73      0.40       368\n",
      "\n",
      "    accuracy                           0.68      2499\n",
      "   macro avg       0.61      0.70      0.59      2499\n",
      "weighted avg       0.84      0.68      0.73      2499\n",
      "\n",
      "Train Set Accuracy: 0.6839\n",
      "Train Set Recall: 0.7283\n",
      "Train Set Precision: 0.2797\n",
      "Train Set F1: 0.4042\n",
      "\n",
      "\n",
      "Test Score Results\n",
      "              precision    recall  f1-score   support\n",
      "\n",
      "           0       0.94      0.68      0.79       719\n",
      "           1       0.27      0.73      0.39       115\n",
      "\n",
      "    accuracy                           0.69       834\n",
      "   macro avg       0.60      0.70      0.59       834\n",
      "weighted avg       0.85      0.69      0.73       834\n",
      "\n",
      "Test Set Accuracy: 0.6859\n",
      "Test Set Recall: 0.7304\n",
      "Test Set Precision: 0.2667\n",
      "Test Set F1: 0.3907\n",
      "\n",
      "\n",
      "Test Set Confusion Matrix\n"
     ]
    },
    {
     "data": {
      "image/png": "[encoded data removed]",
      "text/plain": [
       "<Figure size 432x288 with 2 Axes>"
      ]
     },
     "metadata": {
      "needs_background": "light"
     },
     "output_type": "display_data"
    }
   ],
   "source": [
    "#Predict the model, evaluate results\n",
    "test_preds = logreg.predict(X_test)\n",
    "train_preds = logreg.predict(X_train)\n",
    "performance_results(X_train, y_train, train_preds, X_test, y_test, test_preds, logreg)"
   ]
  },
  {
   "cell_type": "code",
   "execution_count": 38,
   "metadata": {},
   "outputs": [
    {
     "data": {
      "text/html": [
       "<table class=\"simpletable\">\n",
       "<caption>Logit Regression Results</caption>\n",
       "<tr>\n",
       "  <th>Dep. Variable:</th>         <td>churn</td>      <th>  No. Observations:  </th>   <td>  3333</td>  \n",
       "</tr>\n",
       "<tr>\n",
       "  <th>Model:</th>                 <td>Logit</td>      <th>  Df Residuals:      </th>   <td>  3321</td>  \n",
       "</tr>\n",
       "<tr>\n",
       "  <th>Method:</th>                 <td>MLE</td>       <th>  Df Model:          </th>   <td>    11</td>  \n",
       "</tr>\n",
       "<tr>\n",
       "  <th>Date:</th>            <td>Thu, 31 Dec 2020</td> <th>  Pseudo R-squ.:     </th>   <td>0.2155</td>  \n",
       "</tr>\n",
       "<tr>\n",
       "  <th>Time:</th>                <td>20:44:32</td>     <th>  Log-Likelihood:    </th>  <td> -1082.0</td> \n",
       "</tr>\n",
       "<tr>\n",
       "  <th>converged:</th>             <td>True</td>       <th>  LL-Null:           </th>  <td> -1379.1</td> \n",
       "</tr>\n",
       "<tr>\n",
       "  <th>Covariance Type:</th>     <td>nonrobust</td>    <th>  LLR p-value:       </th> <td>2.266e-120</td>\n",
       "</tr>\n",
       "</table>\n",
       "<table class=\"simpletable\">\n",
       "<tr>\n",
       "             <td></td>               <th>coef</th>     <th>std err</th>      <th>z</th>      <th>P>|z|</th>  <th>[0.025</th>    <th>0.975]</th>  \n",
       "</tr>\n",
       "<tr>\n",
       "  <th>const</th>                  <td>   -8.5299</td> <td>    0.708</td> <td>  -12.044</td> <td> 0.000</td> <td>   -9.918</td> <td>   -7.142</td>\n",
       "</tr>\n",
       "<tr>\n",
       "  <th>international_plan</th>     <td>    2.0423</td> <td>    0.145</td> <td>   14.064</td> <td> 0.000</td> <td>    1.758</td> <td>    2.327</td>\n",
       "</tr>\n",
       "<tr>\n",
       "  <th>voice_mail_plan</th>        <td>   -0.9382</td> <td>    0.145</td> <td>   -6.474</td> <td> 0.000</td> <td>   -1.222</td> <td>   -0.654</td>\n",
       "</tr>\n",
       "<tr>\n",
       "  <th>total_day_calls</th>        <td>    0.0033</td> <td>    0.003</td> <td>    1.187</td> <td> 0.235</td> <td>   -0.002</td> <td>    0.009</td>\n",
       "</tr>\n",
       "<tr>\n",
       "  <th>total_day_charge</th>       <td>    0.0763</td> <td>    0.006</td> <td>   11.986</td> <td> 0.000</td> <td>    0.064</td> <td>    0.089</td>\n",
       "</tr>\n",
       "<tr>\n",
       "  <th>total_eve_calls</th>        <td>    0.0011</td> <td>    0.003</td> <td>    0.381</td> <td> 0.703</td> <td>   -0.004</td> <td>    0.006</td>\n",
       "</tr>\n",
       "<tr>\n",
       "  <th>total_eve_charge</th>       <td>    0.0849</td> <td>    0.013</td> <td>    6.322</td> <td> 0.000</td> <td>    0.059</td> <td>    0.111</td>\n",
       "</tr>\n",
       "<tr>\n",
       "  <th>total_night_calls</th>      <td>    0.0004</td> <td>    0.003</td> <td>    0.154</td> <td> 0.877</td> <td>   -0.005</td> <td>    0.006</td>\n",
       "</tr>\n",
       "<tr>\n",
       "  <th>total_night_charge</th>     <td>    0.0809</td> <td>    0.025</td> <td>    3.283</td> <td> 0.001</td> <td>    0.033</td> <td>    0.129</td>\n",
       "</tr>\n",
       "<tr>\n",
       "  <th>total_intl_calls</th>       <td>   -0.0909</td> <td>    0.025</td> <td>   -3.645</td> <td> 0.000</td> <td>   -0.140</td> <td>   -0.042</td>\n",
       "</tr>\n",
       "<tr>\n",
       "  <th>total_intl_charge</th>      <td>    0.3229</td> <td>    0.075</td> <td>    4.281</td> <td> 0.000</td> <td>    0.175</td> <td>    0.471</td>\n",
       "</tr>\n",
       "<tr>\n",
       "  <th>customer_service_calls</th> <td>    0.5143</td> <td>    0.039</td> <td>   13.125</td> <td> 0.000</td> <td>    0.438</td> <td>    0.591</td>\n",
       "</tr>\n",
       "</table>"
      ],
      "text/plain": [
       "<class 'statsmodels.iolib.summary.Summary'>\n",
       "\"\"\"\n",
       "                           Logit Regression Results                           \n",
       "==============================================================================\n",
       "Dep. Variable:                  churn   No. Observations:                 3333\n",
       "Model:                          Logit   Df Residuals:                     3321\n",
       "Method:                           MLE   Df Model:                           11\n",
       "Date:                Thu, 31 Dec 2020   Pseudo R-squ.:                  0.2155\n",
       "Time:                        20:44:32   Log-Likelihood:                -1082.0\n",
       "converged:                       True   LL-Null:                       -1379.1\n",
       "Covariance Type:            nonrobust   LLR p-value:                2.266e-120\n",
       "==========================================================================================\n",
       "                             coef    std err          z      P>|z|      [0.025      0.975]\n",
       "------------------------------------------------------------------------------------------\n",
       "const                     -8.5299      0.708    -12.044      0.000      -9.918      -7.142\n",
       "international_plan         2.0423      0.145     14.064      0.000       1.758       2.327\n",
       "voice_mail_plan           -0.9382      0.145     -6.474      0.000      -1.222      -0.654\n",
       "total_day_calls            0.0033      0.003      1.187      0.235      -0.002       0.009\n",
       "total_day_charge           0.0763      0.006     11.986      0.000       0.064       0.089\n",
       "total_eve_calls            0.0011      0.003      0.381      0.703      -0.004       0.006\n",
       "total_eve_charge           0.0849      0.013      6.322      0.000       0.059       0.111\n",
       "total_night_calls          0.0004      0.003      0.154      0.877      -0.005       0.006\n",
       "total_night_charge         0.0809      0.025      3.283      0.001       0.033       0.129\n",
       "total_intl_calls          -0.0909      0.025     -3.645      0.000      -0.140      -0.042\n",
       "total_intl_charge          0.3229      0.075      4.281      0.000       0.175       0.471\n",
       "customer_service_calls     0.5143      0.039     13.125      0.000       0.438       0.591\n",
       "==========================================================================================\n",
       "\"\"\""
      ]
     },
     "execution_count": 38,
     "metadata": {},
     "output_type": "execute_result"
    }
   ],
   "source": [
    "result.summary()"
   ]
  },
  {
   "cell_type": "code",
   "execution_count": 39,
   "metadata": {},
   "outputs": [
    {
     "data": {
      "text/plain": [
       "international_plan    1.000000\n",
       "churn                 0.259852\n",
       "total_day_charge      0.049398\n",
       "total_intl_charge     0.045780\n",
       "Name: international_plan, dtype: float64"
      ]
     },
     "execution_count": 39,
     "metadata": {},
     "output_type": "execute_result"
    }
   ],
   "source": [
    "df_logistic.corr()['international_plan'].sort_values(ascending=False).head(4)"
   ]
  },
  {
   "cell_type": "code",
   "execution_count": 40,
   "metadata": {},
   "outputs": [
    {
     "data": {
      "text/html": [
       "<div>\n",
       "<style scoped>\n",
       "    .dataframe tbody tr th:only-of-type {\n",
       "        vertical-align: middle;\n",
       "    }\n",
       "\n",
       "    .dataframe tbody tr th {\n",
       "        vertical-align: top;\n",
       "    }\n",
       "\n",
       "    .dataframe thead th {\n",
       "        text-align: right;\n",
       "    }\n",
       "</style>\n",
       "<table border=\"1\" class=\"dataframe\">\n",
       "  <thead>\n",
       "    <tr style=\"text-align: right;\">\n",
       "      <th></th>\n",
       "      <th>international_plan</th>\n",
       "      <th>voice_mail_plan</th>\n",
       "      <th>total_day_calls</th>\n",
       "      <th>total_day_charge</th>\n",
       "      <th>total_eve_calls</th>\n",
       "      <th>total_eve_charge</th>\n",
       "      <th>total_night_calls</th>\n",
       "      <th>total_night_charge</th>\n",
       "      <th>total_intl_calls</th>\n",
       "      <th>total_intl_charge</th>\n",
       "      <th>customer_service_calls</th>\n",
       "      <th>churn</th>\n",
       "    </tr>\n",
       "  </thead>\n",
       "  <tbody>\n",
       "    <tr>\n",
       "      <th>0</th>\n",
       "      <td>0</td>\n",
       "      <td>1</td>\n",
       "      <td>110</td>\n",
       "      <td>45.07</td>\n",
       "      <td>99</td>\n",
       "      <td>16.78</td>\n",
       "      <td>91</td>\n",
       "      <td>11.01</td>\n",
       "      <td>3</td>\n",
       "      <td>2.70</td>\n",
       "      <td>1</td>\n",
       "      <td>0</td>\n",
       "    </tr>\n",
       "    <tr>\n",
       "      <th>1</th>\n",
       "      <td>0</td>\n",
       "      <td>1</td>\n",
       "      <td>123</td>\n",
       "      <td>27.47</td>\n",
       "      <td>103</td>\n",
       "      <td>16.62</td>\n",
       "      <td>103</td>\n",
       "      <td>11.45</td>\n",
       "      <td>3</td>\n",
       "      <td>3.70</td>\n",
       "      <td>1</td>\n",
       "      <td>0</td>\n",
       "    </tr>\n",
       "    <tr>\n",
       "      <th>2</th>\n",
       "      <td>0</td>\n",
       "      <td>0</td>\n",
       "      <td>114</td>\n",
       "      <td>41.38</td>\n",
       "      <td>110</td>\n",
       "      <td>10.30</td>\n",
       "      <td>104</td>\n",
       "      <td>7.32</td>\n",
       "      <td>5</td>\n",
       "      <td>3.29</td>\n",
       "      <td>0</td>\n",
       "      <td>0</td>\n",
       "    </tr>\n",
       "  </tbody>\n",
       "</table>\n",
       "</div>"
      ],
      "text/plain": [
       "   international_plan  voice_mail_plan  total_day_calls  total_day_charge  \\\n",
       "0                   0                1              110             45.07   \n",
       "1                   0                1              123             27.47   \n",
       "2                   0                0              114             41.38   \n",
       "\n",
       "   total_eve_calls  total_eve_charge  total_night_calls  total_night_charge  \\\n",
       "0               99             16.78                 91               11.01   \n",
       "1              103             16.62                103               11.45   \n",
       "2              110             10.30                104                7.32   \n",
       "\n",
       "   total_intl_calls  total_intl_charge  customer_service_calls  churn  \n",
       "0                 3               2.70                       1      0  \n",
       "1                 3               3.70                       1      0  \n",
       "2                 5               3.29                       0      0  "
      ]
     },
     "execution_count": 40,
     "metadata": {},
     "output_type": "execute_result"
    }
   ],
   "source": [
    "df_logistic.head(3)"
   ]
  },
  {
   "cell_type": "markdown",
   "metadata": {},
   "source": [
    "We can make a few takeaways from our logistic regression. Customers who have an voicemail plan are largely satisfied with it, as they are much less likely to switch to a competitor. By contrast, customers with an international plan are much more likely to switch than customers who do not have one."
   ]
  },
  {
   "cell_type": "markdown",
   "metadata": {},
   "source": [
    "Let's review how our logistic regression's results looked before balancing our classes with SMOTE and compare them with our results after."
   ]
  },
  {
   "cell_type": "markdown",
   "metadata": {},
   "source": [
    "Since those initial results, our accuracy dropped from .85 to .68. Before the class balance, our model correctly identified whether or not a customer would remain with SyriaTel 85% of the time, but now, it only predicts the correct outcome 68% of the time."
   ]
  },
  {
   "cell_type": "markdown",
   "metadata": {},
   "source": [
    "As for our recall, that improved dramatically since our SMOTE usage, going from .17 to .73. Recall is calculated by dividing the number of true positives by the number of actual total positives. For out most recent model, 84/(84+31), or .73."
   ]
  },
  {
   "cell_type": "markdown",
   "metadata": {},
   "source": [
    "The precision decreased after the class balance, from .52 to .26. Precision is calculated by using the amount of true positives divided by the number of predicted positives. In other words, for our more recent model, we are looking for the amount of customers who discontinued services with SyriaTel out of all customers our model believed to churn. This is 84/(84+235), which is not a good rate. "
   ]
  },
  {
   "cell_type": "markdown",
   "metadata": {},
   "source": [
    "The F1 increased from .26 to just under .40. This metric is calculated as 2 * Recall * Precision/(Recall+Precision). As a result, the F1 score cannot be high without both precision and recall both being high. So, the F1 score is a good measure of a model's all-around reliability. While this metric improved significantly, it is not as high as we would like it to be. Let's try other algorithms."
   ]
  },
  {
   "cell_type": "markdown",
   "metadata": {},
   "source": [
    "## 3. K Nearest Neighbors"
   ]
  },
  {
   "cell_type": "code",
   "execution_count": 41,
   "metadata": {},
   "outputs": [],
   "source": [
    "from sklearn.neighbors import KNeighborsClassifier"
   ]
  },
  {
   "cell_type": "code",
   "execution_count": 42,
   "metadata": {},
   "outputs": [],
   "source": [
    "scaler = StandardScaler()  \n",
    "scaler.fit(X_train)\n",
    "\n",
    "X_train_scaled = scaler.transform(X_train)  \n",
    "X_test_scaled = scaler.transform(X_test)\n",
    "\n",
    "knn_initial = KNeighborsClassifier(n_neighbors=1)\n",
    "knn_initial.fit(X_train_scaled, y_train)\n",
    "\n",
    "y_predict_test = knn_initial.predict(X_test_scaled)\n",
    "y_predict_train = knn_initial.predict(X_train_scaled)"
   ]
  },
  {
   "cell_type": "code",
   "execution_count": 43,
   "metadata": {},
   "outputs": [
    {
     "name": "stdout",
     "output_type": "stream",
     "text": [
      "\n",
      "\n",
      "Train Score Results\n",
      "              precision    recall  f1-score   support\n",
      "\n",
      "           0       1.00      1.00      1.00      2131\n",
      "           1       1.00      1.00      1.00       368\n",
      "\n",
      "    accuracy                           1.00      2499\n",
      "   macro avg       1.00      1.00      1.00      2499\n",
      "weighted avg       1.00      1.00      1.00      2499\n",
      "\n",
      "Train Set Accuracy: 1.0000\n",
      "Train Set Recall: 1.0000\n",
      "Train Set Precision: 1.0000\n",
      "Train Set F1: 1.0000\n",
      "\n",
      "\n",
      "Test Score Results\n",
      "              precision    recall  f1-score   support\n",
      "\n",
      "           0       0.92      0.94      0.93       719\n",
      "           1       0.57      0.47      0.52       115\n",
      "\n",
      "    accuracy                           0.88       834\n",
      "   macro avg       0.75      0.71      0.72       834\n",
      "weighted avg       0.87      0.88      0.87       834\n",
      "\n",
      "Test Set Accuracy: 0.8789\n",
      "Test Set Recall: 0.4696\n",
      "Test Set Precision: 0.5745\n",
      "Test Set F1: 0.5167\n",
      "\n",
      "\n",
      "Test Set Confusion Matrix\n"
     ]
    },
    {
     "data": {
      "image/png": "[encoded data removed]",
      "text/plain": [
       "<Figure size 432x288 with 2 Axes>"
      ]
     },
     "metadata": {
      "needs_background": "light"
     },
     "output_type": "display_data"
    }
   ],
   "source": [
    "performance_results(X_train_scaled, y_train, y_predict_train, X_test_scaled, y_test, y_predict_test, knn_initial)"
   ]
  },
  {
   "cell_type": "markdown",
   "metadata": {},
   "source": [
    "We will need to reinstantiate the model with the most appropriate value for k. By default, it will assume the best value is 5, which is probably not the case."
   ]
  },
  {
   "cell_type": "code",
   "execution_count": 44,
   "metadata": {},
   "outputs": [],
   "source": [
    "def find_best_k(X_train, y_train, X_test, y_test, min_k=1, max_k=35):\n",
    "    best_k=0\n",
    "    best_score=0\n",
    "    for k in range(min_k, max_k+1, 2):\n",
    "        knn=KNeighborsClassifier(n_neighbors=k)\n",
    "        knn.fit(X_train, y_train)\n",
    "        predictions=knn.predict(X_test)\n",
    "        f1=f1_score(y_test, predictions)\n",
    "        if f1>best_score:\n",
    "            best_k=k\n",
    "            best_score=f1\n",
    "    \n",
    "    print(\"Best value for k: {}\".format(best_k))\n",
    "    print(\"F1: {}\".format(best_score))"
   ]
  },
  {
   "cell_type": "code",
   "execution_count": 45,
   "metadata": {},
   "outputs": [
    {
     "name": "stdout",
     "output_type": "stream",
     "text": [
      "Best value for k: 7\n",
      "F1: 0.5680473372781064\n"
     ]
    }
   ],
   "source": [
    "find_best_k(X_train_scaled, y_train, X_test_scaled, y_test)"
   ]
  },
  {
   "cell_type": "markdown",
   "metadata": {},
   "source": [
    "Turns out the best value for k is 7. Time to reinstantiate the model with this information."
   ]
  },
  {
   "cell_type": "code",
   "execution_count": 46,
   "metadata": {},
   "outputs": [],
   "source": [
    "knn_k_7=KNeighborsClassifier(n_neighbors=7)\n",
    "knn_k_7.fit(X_train_scaled, y_train)\n",
    "\n",
    "y_predict_test2=knn_k_7.predict(X_test_scaled)\n",
    "y_predict_train2=knn_k_7.predict(X_train_scaled)"
   ]
  },
  {
   "cell_type": "code",
   "execution_count": 47,
   "metadata": {},
   "outputs": [
    {
     "name": "stdout",
     "output_type": "stream",
     "text": [
      "\n",
      "\n",
      "Train Score Results\n",
      "              precision    recall  f1-score   support\n",
      "\n",
      "           0       0.91      0.99      0.95      2131\n",
      "           1       0.89      0.43      0.58       368\n",
      "\n",
      "    accuracy                           0.91      2499\n",
      "   macro avg       0.90      0.71      0.76      2499\n",
      "weighted avg       0.91      0.91      0.89      2499\n",
      "\n",
      "Train Set Accuracy: 0.9084\n",
      "Train Set Recall: 0.4293\n",
      "Train Set Precision: 0.8927\n",
      "Train Set F1: 0.5798\n",
      "\n",
      "\n",
      "Test Score Results\n",
      "              precision    recall  f1-score   support\n",
      "\n",
      "           0       0.91      0.99      0.95       719\n",
      "           1       0.89      0.42      0.57       115\n",
      "\n",
      "    accuracy                           0.91       834\n",
      "   macro avg       0.90      0.70      0.76       834\n",
      "weighted avg       0.91      0.91      0.90       834\n",
      "\n",
      "Test Set Accuracy: 0.9125\n",
      "Test Set Recall: 0.4174\n",
      "Test Set Precision: 0.8889\n",
      "Test Set F1: 0.5680\n",
      "\n",
      "\n",
      "Test Set Confusion Matrix\n"
     ]
    },
    {
     "data": {
      "image/png": "[encoded data removed]",
      "text/plain": [
       "<Figure size 432x288 with 2 Axes>"
      ]
     },
     "metadata": {
      "needs_background": "light"
     },
     "output_type": "display_data"
    }
   ],
   "source": [
    "performance_results(X_train_scaled, y_train, y_predict_train2, X_test_scaled, y_test, y_predict_test2, knn_k_7)"
   ]
  },
  {
   "cell_type": "markdown",
   "metadata": {},
   "source": [
    "In this model, we see a high level of accuracy and precision, but the other metrics have a lot of room for improvement. This is because we have a large number of customers who the model falsely identified as customers who remained with SyriaTel."
   ]
  },
  {
   "cell_type": "markdown",
   "metadata": {},
   "source": [
    "## 4. Decision Tree"
   ]
  },
  {
   "cell_type": "code",
   "execution_count": 48,
   "metadata": {},
   "outputs": [
    {
     "data": {
      "text/plain": [
       "DecisionTreeClassifier(random_state=10)"
      ]
     },
     "execution_count": 48,
     "metadata": {},
     "output_type": "execute_result"
    }
   ],
   "source": [
    "from sklearn.tree import DecisionTreeRegressor, DecisionTreeClassifier, export_graphviz\n",
    "decisiontree = DecisionTreeClassifier(random_state=10)\n",
    "decisiontree.fit(X_train, y_train)"
   ]
  },
  {
   "cell_type": "code",
   "execution_count": 49,
   "metadata": {},
   "outputs": [],
   "source": [
    "#predict the train and test data\n",
    "y_preds = decisiontree.predict(X_test)\n",
    "y_preds2 = decisiontree.predict(X_train)"
   ]
  },
  {
   "cell_type": "code",
   "execution_count": 50,
   "metadata": {},
   "outputs": [
    {
     "name": "stdout",
     "output_type": "stream",
     "text": [
      "\n",
      "\n",
      "Train Score Results\n",
      "              precision    recall  f1-score   support\n",
      "\n",
      "           0       1.00      1.00      1.00      2131\n",
      "           1       1.00      1.00      1.00       368\n",
      "\n",
      "    accuracy                           1.00      2499\n",
      "   macro avg       1.00      1.00      1.00      2499\n",
      "weighted avg       1.00      1.00      1.00      2499\n",
      "\n",
      "Train Set Accuracy: 1.0000\n",
      "Train Set Recall: 1.0000\n",
      "Train Set Precision: 1.0000\n",
      "Train Set F1: 1.0000\n",
      "\n",
      "\n",
      "Test Score Results\n",
      "              precision    recall  f1-score   support\n",
      "\n",
      "           0       0.96      0.95      0.95       719\n",
      "           1       0.70      0.77      0.73       115\n",
      "\n",
      "    accuracy                           0.92       834\n",
      "   macro avg       0.83      0.86      0.84       834\n",
      "weighted avg       0.93      0.92      0.92       834\n",
      "\n",
      "Test Set Accuracy: 0.9221\n",
      "Test Set Recall: 0.7739\n",
      "Test Set Precision: 0.6953\n",
      "Test Set F1: 0.7325\n",
      "\n",
      "\n",
      "Test Set Confusion Matrix\n"
     ]
    },
    {
     "data": {
      "image/png": "[encoded data removed]",
      "text/plain": [
       "<Figure size 432x288 with 2 Axes>"
      ]
     },
     "metadata": {
      "needs_background": "light"
     },
     "output_type": "display_data"
    }
   ],
   "source": [
    "performance_results(X_train, y_train, y_preds2, X_test, y_test, y_preds, decisiontree)"
   ]
  },
  {
   "cell_type": "code",
   "execution_count": 51,
   "metadata": {},
   "outputs": [
    {
     "data": {
      "text/plain": [
       "DecisionTreeClassifier(criterion='entropy', random_state=35)"
      ]
     },
     "execution_count": 51,
     "metadata": {},
     "output_type": "execute_result"
    }
   ],
   "source": [
    "#Retry the classifier with Entropy\n",
    "\n",
    "decisiontree2 = DecisionTreeClassifier(criterion='entropy', random_state=35)\n",
    "decisiontree2.fit(X_train, y_train)"
   ]
  },
  {
   "cell_type": "code",
   "execution_count": 52,
   "metadata": {},
   "outputs": [
    {
     "name": "stdout",
     "output_type": "stream",
     "text": [
      "\n",
      "\n",
      "Train Score Results\n",
      "              precision    recall  f1-score   support\n",
      "\n",
      "           0       0.90      0.92      0.91      2131\n",
      "           1       0.49      0.42      0.46       368\n",
      "\n",
      "    accuracy                           0.85      2499\n",
      "   macro avg       0.70      0.67      0.68      2499\n",
      "weighted avg       0.84      0.85      0.85      2499\n",
      "\n",
      "Train Set Accuracy: 0.8511\n",
      "Train Set Recall: 0.4239\n",
      "Train Set Precision: 0.4937\n",
      "Train Set F1: 0.4561\n",
      "\n",
      "\n",
      "Test Score Results\n",
      "              precision    recall  f1-score   support\n",
      "\n",
      "           0       0.91      0.91      0.91       719\n",
      "           1       0.44      0.43      0.43       115\n",
      "\n",
      "    accuracy                           0.85       834\n",
      "   macro avg       0.68      0.67      0.67       834\n",
      "weighted avg       0.84      0.85      0.85       834\n",
      "\n",
      "Test Set Accuracy: 0.8465\n",
      "Test Set Recall: 0.4261\n",
      "Test Set Precision: 0.4414\n",
      "Test Set F1: 0.4336\n",
      "\n",
      "\n",
      "Test Set Confusion Matrix\n"
     ]
    },
    {
     "data": {
      "image/png": "[encoded data removed]",
      "text/plain": [
       "<Figure size 432x288 with 2 Axes>"
      ]
     },
     "metadata": {
      "needs_background": "light"
     },
     "output_type": "display_data"
    }
   ],
   "source": [
    "from sklearn.naive_bayes import GaussianNB\n",
    "bayes = GaussianNB()\n",
    "\n",
    "bayes.fit(X_train, y_train)\n",
    "GaussianNB()\n",
    "\n",
    "#Predict the model, evaluate results\n",
    "test_preds = bayes.predict(X_test)\n",
    "train_preds = bayes.predict(X_train)\n",
    "performance_results(X_train, y_train, train_preds, X_test, y_test, test_preds, bayes)"
   ]
  },
  {
   "cell_type": "code",
   "execution_count": 53,
   "metadata": {},
   "outputs": [],
   "source": [
    "#predict the train and test data\n",
    "y_ent_preds = decisiontree2.predict(X_test)\n",
    "y_ent_preds2 = decisiontree2.predict(X_train)"
   ]
  },
  {
   "cell_type": "code",
   "execution_count": 54,
   "metadata": {},
   "outputs": [
    {
     "name": "stdout",
     "output_type": "stream",
     "text": [
      "\n",
      "\n",
      "Train Score Results\n",
      "              precision    recall  f1-score   support\n",
      "\n",
      "           0       1.00      1.00      1.00      2131\n",
      "           1       1.00      1.00      1.00       368\n",
      "\n",
      "    accuracy                           1.00      2499\n",
      "   macro avg       1.00      1.00      1.00      2499\n",
      "weighted avg       1.00      1.00      1.00      2499\n",
      "\n",
      "Train Set Accuracy: 1.0000\n",
      "Train Set Recall: 1.0000\n",
      "Train Set Precision: 1.0000\n",
      "Train Set F1: 1.0000\n",
      "\n",
      "\n",
      "Test Score Results\n",
      "              precision    recall  f1-score   support\n",
      "\n",
      "           0       0.97      0.93      0.95       719\n",
      "           1       0.65      0.81      0.72       115\n",
      "\n",
      "    accuracy                           0.91       834\n",
      "   macro avg       0.81      0.87      0.83       834\n",
      "weighted avg       0.92      0.91      0.92       834\n",
      "\n",
      "Test Set Accuracy: 0.9137\n",
      "Test Set Recall: 0.8087\n",
      "Test Set Precision: 0.6503\n",
      "Test Set F1: 0.7209\n",
      "\n",
      "\n",
      "Test Set Confusion Matrix\n"
     ]
    },
    {
     "data": {
      "image/png": "[encoded data removed]",
      "text/plain": [
       "<Figure size 432x288 with 2 Axes>"
      ]
     },
     "metadata": {
      "needs_background": "light"
     },
     "output_type": "display_data"
    }
   ],
   "source": [
    "#Evaluate the results \n",
    "performance_results(X_train, y_train, y_ent_preds2, X_test, y_test, y_ent_preds, decisiontree2)"
   ]
  },
  {
   "cell_type": "code",
   "execution_count": 55,
   "metadata": {},
   "outputs": [
    {
     "data": {
      "text/plain": [
       "DecisionTreeClassifier(criterion='entropy', max_depth=3, random_state=10)"
      ]
     },
     "execution_count": 55,
     "metadata": {},
     "output_type": "execute_result"
    }
   ],
   "source": [
    "#Tune the max_depth hyperparameter to see if it improves results \n",
    "decisiontree3 = DecisionTreeClassifier(random_state=10, criterion=\"entropy\", max_depth=3)\n",
    "decisiontree3.fit(X_train, y_train)"
   ]
  },
  {
   "cell_type": "code",
   "execution_count": 56,
   "metadata": {},
   "outputs": [],
   "source": [
    "#predict the train and test data\n",
    "y_testpreds = decisiontree3.predict(X_test)\n",
    "y_trainpreds = decisiontree3.predict(X_train)"
   ]
  },
  {
   "cell_type": "code",
   "execution_count": 57,
   "metadata": {},
   "outputs": [
    {
     "name": "stdout",
     "output_type": "stream",
     "text": [
      "\n",
      "\n",
      "Train Score Results\n",
      "              precision    recall  f1-score   support\n",
      "\n",
      "           0       0.91      0.99      0.95      2131\n",
      "           1       0.88      0.41      0.56       368\n",
      "\n",
      "    accuracy                           0.90      2499\n",
      "   macro avg       0.89      0.70      0.75      2499\n",
      "weighted avg       0.90      0.90      0.89      2499\n",
      "\n",
      "Train Set Accuracy: 0.9048\n",
      "Train Set Recall: 0.4076\n",
      "Train Set Precision: 0.8824\n",
      "Train Set F1: 0.5576\n",
      "\n",
      "\n",
      "Test Score Results\n",
      "              precision    recall  f1-score   support\n",
      "\n",
      "           0       0.91      0.98      0.95       719\n",
      "           1       0.81      0.41      0.54       115\n",
      "\n",
      "    accuracy                           0.91       834\n",
      "   macro avg       0.86      0.70      0.75       834\n",
      "weighted avg       0.90      0.91      0.89       834\n",
      "\n",
      "Test Set Accuracy: 0.9053\n",
      "Test Set Recall: 0.4087\n",
      "Test Set Precision: 0.8103\n",
      "Test Set F1: 0.5434\n",
      "\n",
      "\n",
      "Test Set Confusion Matrix\n"
     ]
    },
    {
     "data": {
      "image/png": "[encoded data removed]",
      "text/plain": [
       "<Figure size 432x288 with 2 Axes>"
      ]
     },
     "metadata": {
      "needs_background": "light"
     },
     "output_type": "display_data"
    }
   ],
   "source": [
    "#Evaluate the results \n",
    "performance_results(X_train, y_train, y_trainpreds, X_test, y_test, y_testpreds, decisiontree3)"
   ]
  },
  {
   "cell_type": "markdown",
   "metadata": {},
   "source": [
    "With the decision tree, we see generally the same strengths and weaknesses as we had with K Nearest Neighbors. Once again, we have high accuracy and precision, but we still have more false negatives than we would like."
   ]
  },
  {
   "cell_type": "markdown",
   "metadata": {},
   "source": [
    "## 5. Ensemble Methods"
   ]
  },
  {
   "cell_type": "markdown",
   "metadata": {},
   "source": [
    "Trying to build on the decision tree model by using a random forest model, which relies on decision trees."
   ]
  },
  {
   "cell_type": "code",
   "execution_count": 58,
   "metadata": {},
   "outputs": [
    {
     "data": {
      "text/plain": [
       "BaggingClassifier(base_estimator=DecisionTreeClassifier(max_depth=5),\n",
       "                  n_estimators=50)"
      ]
     },
     "execution_count": 58,
     "metadata": {},
     "output_type": "execute_result"
    }
   ],
   "source": [
    "#Instansiate and fit the model.\n",
    "from sklearn.ensemble import RandomForestClassifier, BaggingClassifier, AdaBoostClassifier, GradientBoostingClassifier\n",
    "bagged_tree = BaggingClassifier(DecisionTreeClassifier(criterion='gini', max_depth=5), n_estimators=50)\n",
    "bagged_tree.fit(X_train, y_train)"
   ]
  },
  {
   "cell_type": "code",
   "execution_count": 59,
   "metadata": {},
   "outputs": [],
   "source": [
    "bagged_predictions_train = bagged_tree.predict(X_train)\n",
    "bagged_predictions_test = bagged_tree.predict(X_test)"
   ]
  },
  {
   "cell_type": "code",
   "execution_count": 60,
   "metadata": {},
   "outputs": [
    {
     "name": "stdout",
     "output_type": "stream",
     "text": [
      "\n",
      "\n",
      "Train Score Results\n",
      "              precision    recall  f1-score   support\n",
      "\n",
      "           0       0.96      1.00      0.98      2131\n",
      "           1       0.97      0.76      0.86       368\n",
      "\n",
      "    accuracy                           0.96      2499\n",
      "   macro avg       0.97      0.88      0.92      2499\n",
      "weighted avg       0.96      0.96      0.96      2499\n",
      "\n",
      "Train Set Accuracy: 0.9620\n",
      "Train Set Recall: 0.7636\n",
      "Train Set Precision: 0.9723\n",
      "Train Set F1: 0.8554\n",
      "\n",
      "\n",
      "Test Score Results\n",
      "              precision    recall  f1-score   support\n",
      "\n",
      "           0       0.96      0.97      0.97       719\n",
      "           1       0.83      0.76      0.79       115\n",
      "\n",
      "    accuracy                           0.94       834\n",
      "   macro avg       0.90      0.87      0.88       834\n",
      "weighted avg       0.94      0.94      0.94       834\n",
      "\n",
      "Test Set Accuracy: 0.9448\n",
      "Test Set Recall: 0.7565\n",
      "Test Set Precision: 0.8286\n",
      "Test Set F1: 0.7909\n",
      "\n",
      "\n",
      "Test Set Confusion Matrix\n"
     ]
    },
    {
     "data": {
      "image/png": "[encoded data removed]",
      "text/plain": [
       "<Figure size 432x288 with 2 Axes>"
      ]
     },
     "metadata": {
      "needs_background": "light"
     },
     "output_type": "display_data"
    }
   ],
   "source": [
    "performance_results(X_train, y_train, bagged_predictions_train, X_test, y_test, bagged_predictions_test, bagged_tree)"
   ]
  },
  {
   "cell_type": "code",
   "execution_count": 61,
   "metadata": {},
   "outputs": [
    {
     "data": {
      "text/plain": [
       "RandomForestClassifier(max_depth=10, max_features=10, n_estimators=10)"
      ]
     },
     "execution_count": 61,
     "metadata": {},
     "output_type": "execute_result"
    }
   ],
   "source": [
    "#Instansiate the model, select hyperparameters to run through, fit the model.\n",
    "randomforest = RandomForestClassifier(max_depth=10, criterion='gini', n_estimators=10, max_features=10)\n",
    "randomforest.fit(X_train, y_train)"
   ]
  },
  {
   "cell_type": "code",
   "execution_count": 62,
   "metadata": {},
   "outputs": [],
   "source": [
    "#Make predictions on the model.\n",
    "random_forest_train = randomforest.predict(X_train)\n",
    "random_forest_test = randomforest.predict(X_test)"
   ]
  },
  {
   "cell_type": "code",
   "execution_count": 63,
   "metadata": {},
   "outputs": [
    {
     "name": "stdout",
     "output_type": "stream",
     "text": [
      "\n",
      "\n",
      "Train Score Results\n",
      "              precision    recall  f1-score   support\n",
      "\n",
      "           0       0.98      1.00      0.99      2131\n",
      "           1       1.00      0.87      0.93       368\n",
      "\n",
      "    accuracy                           0.98      2499\n",
      "   macro avg       0.99      0.94      0.96      2499\n",
      "weighted avg       0.98      0.98      0.98      2499\n",
      "\n",
      "Train Set Accuracy: 0.9812\n",
      "Train Set Recall: 0.8723\n",
      "Train Set Precision: 1.0000\n",
      "Train Set F1: 0.9318\n",
      "\n",
      "\n",
      "Test Score Results\n",
      "              precision    recall  f1-score   support\n",
      "\n",
      "           0       0.97      0.97      0.97       719\n",
      "           1       0.84      0.80      0.82       115\n",
      "\n",
      "    accuracy                           0.95       834\n",
      "   macro avg       0.90      0.89      0.89       834\n",
      "weighted avg       0.95      0.95      0.95       834\n",
      "\n",
      "Test Set Accuracy: 0.9508\n",
      "Test Set Recall: 0.8000\n",
      "Test Set Precision: 0.8364\n",
      "Test Set F1: 0.8178\n",
      "\n",
      "\n",
      "Test Set Confusion Matrix\n"
     ]
    },
    {
     "data": {
      "image/png": "[encoded data removed]",
      "text/plain": [
       "<Figure size 432x288 with 2 Axes>"
      ]
     },
     "metadata": {
      "needs_background": "light"
     },
     "output_type": "display_data"
    }
   ],
   "source": [
    "performance_results(X_train, y_train, random_forest_train, X_test, y_test, random_forest_test, randomforest)"
   ]
  },
  {
   "cell_type": "code",
   "execution_count": 64,
   "metadata": {},
   "outputs": [],
   "source": [
    "#Create graph that displays the impact each figure makes on the dependent variable.\n",
    "def plot_feature_importances(model):\n",
    "    n_features = X_train.shape[1]\n",
    "    plt.figure(figsize=(6,6))\n",
    "    plt.barh(range(n_features), model.feature_importances_, align='center') \n",
    "    plt.yticks(np.arange(n_features), X_train.columns.values) \n",
    "    plt.xlabel('Feature importance')\n",
    "    plt.ylabel('Feature')"
   ]
  },
  {
   "cell_type": "code",
   "execution_count": 65,
   "metadata": {},
   "outputs": [
    {
     "data": {
      "image/png": "[encoded data removed]",
      "text/plain": [
       "<Figure size 432x432 with 1 Axes>"
      ]
     },
     "metadata": {
      "needs_background": "light"
     },
     "output_type": "display_data"
    }
   ],
   "source": [
    "#View the features of the first tree.\n",
    "rf_feature_importance_tree_1 = randomforest.estimators_[0]\n",
    "plot_feature_importances(rf_feature_importance_tree_1)"
   ]
  },
  {
   "cell_type": "code",
   "execution_count": 66,
   "metadata": {},
   "outputs": [
    {
     "data": {
      "image/png": "[encoded data removed]",
      "text/plain": [
       "<Figure size 432x432 with 1 Axes>"
      ]
     },
     "metadata": {
      "needs_background": "light"
     },
     "output_type": "display_data"
    }
   ],
   "source": [
    "#View the features of the second tree.\n",
    "rf_feature_importance_tree_2 = randomforest.estimators_[1]\n",
    "plot_feature_importances(rf_feature_importance_tree_2)"
   ]
  },
  {
   "cell_type": "code",
   "execution_count": 67,
   "metadata": {},
   "outputs": [
    {
     "data": {
      "image/png": "[encoded data removed]",
      "text/plain": [
       "<Figure size 432x432 with 1 Axes>"
      ]
     },
     "metadata": {
      "needs_background": "light"
     },
     "output_type": "display_data"
    }
   ],
   "source": [
    "#View the features of the third tree.\n",
    "rf_feature_importance_tree_3 = randomforest.estimators_[2]\n",
    "plot_feature_importances(rf_feature_importance_tree_3)"
   ]
  },
  {
   "cell_type": "markdown",
   "metadata": {},
   "source": [
    "In all three trees, we saw that total_day_charge, customer_service_calls, and international_plan are important features."
   ]
  },
  {
   "cell_type": "code",
   "execution_count": 68,
   "metadata": {},
   "outputs": [
    {
     "data": {
      "text/plain": [
       "0.944"
      ]
     },
     "execution_count": 68,
     "metadata": {},
     "output_type": "execute_result"
    }
   ],
   "source": [
    "from sklearn.model_selection import cross_val_score, GridSearchCV\n",
    "\n",
    "#Using GridSearch to improve the Random Tree model.\n",
    "rfc = RandomForestClassifier()\n",
    "mean_rf_cv_score = np.mean(cross_val_score(rfc, X_train, y_train, cv=3))\n",
    "round(mean_rf_cv_score, 3)"
   ]
  },
  {
   "cell_type": "markdown",
   "metadata": {},
   "source": [
    "This model an excellent cross-validation score of over 94%. It will be difficult to improve this. A high cross-validation score means that the model is consistent across different subsets of data and tends not to overfit, making it more reliable."
   ]
  },
  {
   "cell_type": "markdown",
   "metadata": {},
   "source": [
    "Let's observe the international plan field, which seems to be among the most important features."
   ]
  },
  {
   "cell_type": "code",
   "execution_count": 69,
   "metadata": {},
   "outputs": [
    {
     "data": {
      "text/html": [
       "<div>\n",
       "<style scoped>\n",
       "    .dataframe tbody tr th:only-of-type {\n",
       "        vertical-align: middle;\n",
       "    }\n",
       "\n",
       "    .dataframe tbody tr th {\n",
       "        vertical-align: top;\n",
       "    }\n",
       "\n",
       "    .dataframe thead th {\n",
       "        text-align: right;\n",
       "    }\n",
       "</style>\n",
       "<table border=\"1\" class=\"dataframe\">\n",
       "  <thead>\n",
       "    <tr style=\"text-align: right;\">\n",
       "      <th></th>\n",
       "      <th>international_plan</th>\n",
       "      <th>voice_mail_plan</th>\n",
       "      <th>number_vmail_messages</th>\n",
       "      <th>total_day_minutes</th>\n",
       "      <th>total_day_calls</th>\n",
       "      <th>total_day_charge</th>\n",
       "      <th>total_eve_minutes</th>\n",
       "      <th>total_eve_calls</th>\n",
       "      <th>total_eve_charge</th>\n",
       "      <th>total_night_minutes</th>\n",
       "      <th>total_night_calls</th>\n",
       "      <th>total_night_charge</th>\n",
       "      <th>total_intl_minutes</th>\n",
       "      <th>total_intl_calls</th>\n",
       "      <th>total_intl_charge</th>\n",
       "      <th>customer_service_calls</th>\n",
       "      <th>churn</th>\n",
       "    </tr>\n",
       "  </thead>\n",
       "  <tbody>\n",
       "    <tr>\n",
       "      <th>3</th>\n",
       "      <td>1</td>\n",
       "      <td>0</td>\n",
       "      <td>0</td>\n",
       "      <td>299.4</td>\n",
       "      <td>71</td>\n",
       "      <td>50.90</td>\n",
       "      <td>61.9</td>\n",
       "      <td>88</td>\n",
       "      <td>5.26</td>\n",
       "      <td>196.9</td>\n",
       "      <td>89</td>\n",
       "      <td>8.86</td>\n",
       "      <td>6.6</td>\n",
       "      <td>7</td>\n",
       "      <td>1.78</td>\n",
       "      <td>2</td>\n",
       "      <td>0</td>\n",
       "    </tr>\n",
       "    <tr>\n",
       "      <th>4</th>\n",
       "      <td>1</td>\n",
       "      <td>0</td>\n",
       "      <td>0</td>\n",
       "      <td>166.7</td>\n",
       "      <td>113</td>\n",
       "      <td>28.34</td>\n",
       "      <td>148.3</td>\n",
       "      <td>122</td>\n",
       "      <td>12.61</td>\n",
       "      <td>186.9</td>\n",
       "      <td>121</td>\n",
       "      <td>8.41</td>\n",
       "      <td>10.1</td>\n",
       "      <td>3</td>\n",
       "      <td>2.73</td>\n",
       "      <td>3</td>\n",
       "      <td>0</td>\n",
       "    </tr>\n",
       "  </tbody>\n",
       "</table>\n",
       "</div>"
      ],
      "text/plain": [
       "   international_plan  voice_mail_plan  number_vmail_messages  \\\n",
       "3                   1                0                      0   \n",
       "4                   1                0                      0   \n",
       "\n",
       "   total_day_minutes  total_day_calls  total_day_charge  total_eve_minutes  \\\n",
       "3              299.4               71             50.90               61.9   \n",
       "4              166.7              113             28.34              148.3   \n",
       "\n",
       "   total_eve_calls  total_eve_charge  total_night_minutes  total_night_calls  \\\n",
       "3               88              5.26                196.9                 89   \n",
       "4              122             12.61                186.9                121   \n",
       "\n",
       "   total_night_charge  total_intl_minutes  total_intl_calls  \\\n",
       "3                8.86                 6.6                 7   \n",
       "4                8.41                10.1                 3   \n",
       "\n",
       "   total_intl_charge  customer_service_calls  churn  \n",
       "3               1.78                       2      0  \n",
       "4               2.73                       3      0  "
      ]
     },
     "execution_count": 69,
     "metadata": {},
     "output_type": "execute_result"
    }
   ],
   "source": [
    "df_international_only = df.loc[df.international_plan == 1]\n",
    "df_international_only.head(2)"
   ]
  },
  {
   "cell_type": "code",
   "execution_count": 70,
   "metadata": {},
   "outputs": [
    {
     "data": {
      "text/plain": [
       "0    186\n",
       "1    137\n",
       "Name: churn, dtype: int64"
      ]
     },
     "execution_count": 70,
     "metadata": {},
     "output_type": "execute_result"
    }
   ],
   "source": [
    "df_international_only.churn.value_counts().sort_index()"
   ]
  },
  {
   "cell_type": "code",
   "execution_count": 71,
   "metadata": {},
   "outputs": [
    {
     "data": {
      "text/plain": [
       "0.424"
      ]
     },
     "execution_count": 71,
     "metadata": {},
     "output_type": "execute_result"
    }
   ],
   "source": [
    "round(137/(137+186),3)"
   ]
  },
  {
   "cell_type": "code",
   "execution_count": 72,
   "metadata": {},
   "outputs": [
    {
     "data": {
      "text/html": [
       "<div>\n",
       "<style scoped>\n",
       "    .dataframe tbody tr th:only-of-type {\n",
       "        vertical-align: middle;\n",
       "    }\n",
       "\n",
       "    .dataframe tbody tr th {\n",
       "        vertical-align: top;\n",
       "    }\n",
       "\n",
       "    .dataframe thead th {\n",
       "        text-align: right;\n",
       "    }\n",
       "</style>\n",
       "<table border=\"1\" class=\"dataframe\">\n",
       "  <thead>\n",
       "    <tr style=\"text-align: right;\">\n",
       "      <th></th>\n",
       "      <th>international_plan</th>\n",
       "      <th>voice_mail_plan</th>\n",
       "      <th>number_vmail_messages</th>\n",
       "      <th>total_day_minutes</th>\n",
       "      <th>total_day_calls</th>\n",
       "      <th>total_day_charge</th>\n",
       "      <th>total_eve_minutes</th>\n",
       "      <th>total_eve_calls</th>\n",
       "      <th>total_eve_charge</th>\n",
       "      <th>total_night_minutes</th>\n",
       "      <th>total_night_calls</th>\n",
       "      <th>total_night_charge</th>\n",
       "      <th>total_intl_minutes</th>\n",
       "      <th>total_intl_calls</th>\n",
       "      <th>total_intl_charge</th>\n",
       "      <th>customer_service_calls</th>\n",
       "      <th>churn</th>\n",
       "    </tr>\n",
       "  </thead>\n",
       "  <tbody>\n",
       "    <tr>\n",
       "      <th>0</th>\n",
       "      <td>0</td>\n",
       "      <td>1</td>\n",
       "      <td>25</td>\n",
       "      <td>265.1</td>\n",
       "      <td>110</td>\n",
       "      <td>45.07</td>\n",
       "      <td>197.4</td>\n",
       "      <td>99</td>\n",
       "      <td>16.78</td>\n",
       "      <td>244.7</td>\n",
       "      <td>91</td>\n",
       "      <td>11.01</td>\n",
       "      <td>10.0</td>\n",
       "      <td>3</td>\n",
       "      <td>2.7</td>\n",
       "      <td>1</td>\n",
       "      <td>0</td>\n",
       "    </tr>\n",
       "    <tr>\n",
       "      <th>1</th>\n",
       "      <td>0</td>\n",
       "      <td>1</td>\n",
       "      <td>26</td>\n",
       "      <td>161.6</td>\n",
       "      <td>123</td>\n",
       "      <td>27.47</td>\n",
       "      <td>195.5</td>\n",
       "      <td>103</td>\n",
       "      <td>16.62</td>\n",
       "      <td>254.4</td>\n",
       "      <td>103</td>\n",
       "      <td>11.45</td>\n",
       "      <td>13.7</td>\n",
       "      <td>3</td>\n",
       "      <td>3.7</td>\n",
       "      <td>1</td>\n",
       "      <td>0</td>\n",
       "    </tr>\n",
       "  </tbody>\n",
       "</table>\n",
       "</div>"
      ],
      "text/plain": [
       "   international_plan  voice_mail_plan  number_vmail_messages  \\\n",
       "0                   0                1                     25   \n",
       "1                   0                1                     26   \n",
       "\n",
       "   total_day_minutes  total_day_calls  total_day_charge  total_eve_minutes  \\\n",
       "0              265.1              110             45.07              197.4   \n",
       "1              161.6              123             27.47              195.5   \n",
       "\n",
       "   total_eve_calls  total_eve_charge  total_night_minutes  total_night_calls  \\\n",
       "0               99             16.78                244.7                 91   \n",
       "1              103             16.62                254.4                103   \n",
       "\n",
       "   total_night_charge  total_intl_minutes  total_intl_calls  \\\n",
       "0               11.01                10.0                 3   \n",
       "1               11.45                13.7                 3   \n",
       "\n",
       "   total_intl_charge  customer_service_calls  churn  \n",
       "0                2.7                       1      0  \n",
       "1                3.7                       1      0  "
      ]
     },
     "execution_count": 72,
     "metadata": {},
     "output_type": "execute_result"
    }
   ],
   "source": [
    "df_no_international = df.loc[df.international_plan == 0]\n",
    "df_no_international.head(2)"
   ]
  },
  {
   "cell_type": "code",
   "execution_count": 73,
   "metadata": {},
   "outputs": [
    {
     "data": {
      "text/plain": [
       "0    2664\n",
       "1     346\n",
       "Name: churn, dtype: int64"
      ]
     },
     "execution_count": 73,
     "metadata": {},
     "output_type": "execute_result"
    }
   ],
   "source": [
    "df_no_international.churn.value_counts().sort_index()"
   ]
  },
  {
   "cell_type": "code",
   "execution_count": 74,
   "metadata": {},
   "outputs": [
    {
     "data": {
      "text/plain": [
       "0.115"
      ]
     },
     "execution_count": 74,
     "metadata": {},
     "output_type": "execute_result"
    }
   ],
   "source": [
    "round(346/(346+2664),3)"
   ]
  },
  {
   "cell_type": "markdown",
   "metadata": {},
   "source": [
    "During our logistic regression attempts, we observed that customers with international plans seemed to be more likely to churn than others, and this confirms that conclusion. The feature trees lead us to believe it is one of the most important features when determining churn rate. Roughly 42% of customers with an international plan switch, while only about 11% of customers without an international plan churn."
   ]
  },
  {
   "cell_type": "markdown",
   "metadata": {},
   "source": [
    "We also see that total_day_charge is the most important feature, according to those visuals. Let's compare the behaviors of customers in the top 5% (2 or more standard deviations above the mean) of total_day_charge versus all others."
   ]
  },
  {
   "cell_type": "code",
   "execution_count": 75,
   "metadata": {},
   "outputs": [
    {
     "name": "stdout",
     "output_type": "stream",
     "text": [
      "0.9 percentile: 42.428000000000004\n",
      "0.91 percentile: 43.01\n",
      "0.92 percentile: 43.682\n",
      "0.93 percentile: 44.47800000000001\n",
      "0.94 percentile: 45.2016\n",
      "0.95 percentile: 46.02799999999999\n",
      "0.96 percentile: 46.6944\n",
      "0.97 percentile: 47.8008\n",
      "0.98 percentile: 49.30600000000001\n",
      "0.99 percentile: 51.876799999999996\n"
     ]
    }
   ],
   "source": [
    "for i in range(95, 96):\n",
    "    q = i / 100\n",
    "    print('{} percentile: {}'.format(q, df['total_day_charge'].quantile(q=q)))"
   ]
  },
  {
   "cell_type": "code",
   "execution_count": 76,
   "metadata": {},
   "outputs": [
    {
     "data": {
      "text/html": [
       "<div>\n",
       "<style scoped>\n",
       "    .dataframe tbody tr th:only-of-type {\n",
       "        vertical-align: middle;\n",
       "    }\n",
       "\n",
       "    .dataframe tbody tr th {\n",
       "        vertical-align: top;\n",
       "    }\n",
       "\n",
       "    .dataframe thead th {\n",
       "        text-align: right;\n",
       "    }\n",
       "</style>\n",
       "<table border=\"1\" class=\"dataframe\">\n",
       "  <thead>\n",
       "    <tr style=\"text-align: right;\">\n",
       "      <th></th>\n",
       "      <th>international_plan</th>\n",
       "      <th>voice_mail_plan</th>\n",
       "      <th>number_vmail_messages</th>\n",
       "      <th>total_day_minutes</th>\n",
       "      <th>total_day_calls</th>\n",
       "      <th>total_day_charge</th>\n",
       "      <th>total_eve_minutes</th>\n",
       "      <th>total_eve_calls</th>\n",
       "      <th>total_eve_charge</th>\n",
       "      <th>total_night_minutes</th>\n",
       "      <th>total_night_calls</th>\n",
       "      <th>total_night_charge</th>\n",
       "      <th>total_intl_minutes</th>\n",
       "      <th>total_intl_calls</th>\n",
       "      <th>total_intl_charge</th>\n",
       "      <th>customer_service_calls</th>\n",
       "      <th>churn</th>\n",
       "    </tr>\n",
       "  </thead>\n",
       "  <tbody>\n",
       "    <tr>\n",
       "      <th>3</th>\n",
       "      <td>1</td>\n",
       "      <td>0</td>\n",
       "      <td>0</td>\n",
       "      <td>299.4</td>\n",
       "      <td>71</td>\n",
       "      <td>50.90</td>\n",
       "      <td>61.9</td>\n",
       "      <td>88</td>\n",
       "      <td>5.26</td>\n",
       "      <td>196.9</td>\n",
       "      <td>89</td>\n",
       "      <td>8.86</td>\n",
       "      <td>6.6</td>\n",
       "      <td>7</td>\n",
       "      <td>1.78</td>\n",
       "      <td>2</td>\n",
       "      <td>0</td>\n",
       "    </tr>\n",
       "    <tr>\n",
       "      <th>15</th>\n",
       "      <td>0</td>\n",
       "      <td>0</td>\n",
       "      <td>0</td>\n",
       "      <td>332.9</td>\n",
       "      <td>67</td>\n",
       "      <td>56.59</td>\n",
       "      <td>317.8</td>\n",
       "      <td>97</td>\n",
       "      <td>27.01</td>\n",
       "      <td>160.6</td>\n",
       "      <td>128</td>\n",
       "      <td>7.23</td>\n",
       "      <td>5.4</td>\n",
       "      <td>9</td>\n",
       "      <td>1.46</td>\n",
       "      <td>4</td>\n",
       "      <td>1</td>\n",
       "    </tr>\n",
       "  </tbody>\n",
       "</table>\n",
       "</div>"
      ],
      "text/plain": [
       "    international_plan  voice_mail_plan  number_vmail_messages  \\\n",
       "3                    1                0                      0   \n",
       "15                   0                0                      0   \n",
       "\n",
       "    total_day_minutes  total_day_calls  total_day_charge  total_eve_minutes  \\\n",
       "3               299.4               71             50.90               61.9   \n",
       "15              332.9               67             56.59              317.8   \n",
       "\n",
       "    total_eve_calls  total_eve_charge  total_night_minutes  total_night_calls  \\\n",
       "3                88              5.26                196.9                 89   \n",
       "15               97             27.01                160.6                128   \n",
       "\n",
       "    total_night_charge  total_intl_minutes  total_intl_calls  \\\n",
       "3                 8.86                 6.6                 7   \n",
       "15                7.23                 5.4                 9   \n",
       "\n",
       "    total_intl_charge  customer_service_calls  churn  \n",
       "3                1.78                       2      0  \n",
       "15               1.46                       4      1  "
      ]
     },
     "execution_count": 76,
     "metadata": {},
     "output_type": "execute_result"
    }
   ],
   "source": [
    "df_top_charges = df.loc[df.total_day_charge >= 46.028]\n",
    "df_top_charges.head(2)"
   ]
  },
  {
   "cell_type": "code",
   "execution_count": 77,
   "metadata": {},
   "outputs": [
    {
     "data": {
      "text/plain": [
       "0     66\n",
       "1    101\n",
       "Name: churn, dtype: int64"
      ]
     },
     "execution_count": 77,
     "metadata": {},
     "output_type": "execute_result"
    }
   ],
   "source": [
    "df_top_charges.churn.value_counts().sort_index()"
   ]
  },
  {
   "cell_type": "code",
   "execution_count": 78,
   "metadata": {},
   "outputs": [
    {
     "data": {
      "text/plain": [
       "0.605"
      ]
     },
     "execution_count": 78,
     "metadata": {},
     "output_type": "execute_result"
    }
   ],
   "source": [
    "round(101/(101+66),3)"
   ]
  },
  {
   "cell_type": "code",
   "execution_count": 79,
   "metadata": {},
   "outputs": [
    {
     "data": {
      "text/html": [
       "<div>\n",
       "<style scoped>\n",
       "    .dataframe tbody tr th:only-of-type {\n",
       "        vertical-align: middle;\n",
       "    }\n",
       "\n",
       "    .dataframe tbody tr th {\n",
       "        vertical-align: top;\n",
       "    }\n",
       "\n",
       "    .dataframe thead th {\n",
       "        text-align: right;\n",
       "    }\n",
       "</style>\n",
       "<table border=\"1\" class=\"dataframe\">\n",
       "  <thead>\n",
       "    <tr style=\"text-align: right;\">\n",
       "      <th></th>\n",
       "      <th>international_plan</th>\n",
       "      <th>voice_mail_plan</th>\n",
       "      <th>number_vmail_messages</th>\n",
       "      <th>total_day_minutes</th>\n",
       "      <th>total_day_calls</th>\n",
       "      <th>total_day_charge</th>\n",
       "      <th>total_eve_minutes</th>\n",
       "      <th>total_eve_calls</th>\n",
       "      <th>total_eve_charge</th>\n",
       "      <th>total_night_minutes</th>\n",
       "      <th>total_night_calls</th>\n",
       "      <th>total_night_charge</th>\n",
       "      <th>total_intl_minutes</th>\n",
       "      <th>total_intl_calls</th>\n",
       "      <th>total_intl_charge</th>\n",
       "      <th>customer_service_calls</th>\n",
       "      <th>churn</th>\n",
       "    </tr>\n",
       "  </thead>\n",
       "  <tbody>\n",
       "    <tr>\n",
       "      <th>0</th>\n",
       "      <td>0</td>\n",
       "      <td>1</td>\n",
       "      <td>25</td>\n",
       "      <td>265.1</td>\n",
       "      <td>110</td>\n",
       "      <td>45.07</td>\n",
       "      <td>197.4</td>\n",
       "      <td>99</td>\n",
       "      <td>16.78</td>\n",
       "      <td>244.7</td>\n",
       "      <td>91</td>\n",
       "      <td>11.01</td>\n",
       "      <td>10.0</td>\n",
       "      <td>3</td>\n",
       "      <td>2.7</td>\n",
       "      <td>1</td>\n",
       "      <td>0</td>\n",
       "    </tr>\n",
       "    <tr>\n",
       "      <th>1</th>\n",
       "      <td>0</td>\n",
       "      <td>1</td>\n",
       "      <td>26</td>\n",
       "      <td>161.6</td>\n",
       "      <td>123</td>\n",
       "      <td>27.47</td>\n",
       "      <td>195.5</td>\n",
       "      <td>103</td>\n",
       "      <td>16.62</td>\n",
       "      <td>254.4</td>\n",
       "      <td>103</td>\n",
       "      <td>11.45</td>\n",
       "      <td>13.7</td>\n",
       "      <td>3</td>\n",
       "      <td>3.7</td>\n",
       "      <td>1</td>\n",
       "      <td>0</td>\n",
       "    </tr>\n",
       "  </tbody>\n",
       "</table>\n",
       "</div>"
      ],
      "text/plain": [
       "   international_plan  voice_mail_plan  number_vmail_messages  \\\n",
       "0                   0                1                     25   \n",
       "1                   0                1                     26   \n",
       "\n",
       "   total_day_minutes  total_day_calls  total_day_charge  total_eve_minutes  \\\n",
       "0              265.1              110             45.07              197.4   \n",
       "1              161.6              123             27.47              195.5   \n",
       "\n",
       "   total_eve_calls  total_eve_charge  total_night_minutes  total_night_calls  \\\n",
       "0               99             16.78                244.7                 91   \n",
       "1              103             16.62                254.4                103   \n",
       "\n",
       "   total_night_charge  total_intl_minutes  total_intl_calls  \\\n",
       "0               11.01                10.0                 3   \n",
       "1               11.45                13.7                 3   \n",
       "\n",
       "   total_intl_charge  customer_service_calls  churn  \n",
       "0                2.7                       1      0  \n",
       "1                3.7                       1      0  "
      ]
     },
     "execution_count": 79,
     "metadata": {},
     "output_type": "execute_result"
    }
   ],
   "source": [
    "df_normal_charges = df.loc[df.total_day_charge <= 46.028]\n",
    "df_normal_charges.head(2)"
   ]
  },
  {
   "cell_type": "code",
   "execution_count": 80,
   "metadata": {},
   "outputs": [
    {
     "data": {
      "text/plain": [
       "0    2784\n",
       "1     382\n",
       "Name: churn, dtype: int64"
      ]
     },
     "execution_count": 80,
     "metadata": {},
     "output_type": "execute_result"
    }
   ],
   "source": [
    "df_normal_charges.churn.value_counts().sort_index()"
   ]
  },
  {
   "cell_type": "code",
   "execution_count": 81,
   "metadata": {},
   "outputs": [
    {
     "data": {
      "text/plain": [
       "0.121"
      ]
     },
     "execution_count": 81,
     "metadata": {},
     "output_type": "execute_result"
    }
   ],
   "source": [
    "round(382/(382+2784),3)"
   ]
  },
  {
   "cell_type": "markdown",
   "metadata": {},
   "source": [
    "Customers in the top 5% of total daily charge switched to another company over 60% of the time, while others chured at a rate of only 12%."
   ]
  },
  {
   "cell_type": "markdown",
   "metadata": {},
   "source": [
    "The feature importance trees correctly identified some very useful factors in determining whether customers decide to remain with SyriaTel or not. SyriaTel should consider adding incentives for customers paying more than $46 or so per day. These customers are among SyriaTel's most active, yet many of them are unsatisfied with the services. These customers are especially costly for SyriaTel to lose."
   ]
  },
  {
   "cell_type": "markdown",
   "metadata": {},
   "source": [
    "In addition, the satisfaction rate among customers with an international plan is also low. SyriaTel should delve into what is making these customers switch companies."
   ]
  },
  {
   "cell_type": "code",
   "execution_count": 84,
   "metadata": {},
   "outputs": [
    {
     "name": "stdout",
     "output_type": "stream",
     "text": [
      "0.95 percentile: 4.0\n"
     ]
    }
   ],
   "source": [
    "for i in range(95, 96):\n",
    "    q = i / 100\n",
    "    print('{} percentile: {}'.format(q, df['customer_service_calls'].quantile(q=q)))"
   ]
  },
  {
   "cell_type": "markdown",
   "metadata": {},
   "source": [
    "5% of customers in the dataset made 4 or more service calls. Let's compare churn rates for customers at/above this amount versus those with a smaller amount."
   ]
  },
  {
   "cell_type": "code",
   "execution_count": 85,
   "metadata": {},
   "outputs": [
    {
     "data": {
      "text/html": [
       "<div>\n",
       "<style scoped>\n",
       "    .dataframe tbody tr th:only-of-type {\n",
       "        vertical-align: middle;\n",
       "    }\n",
       "\n",
       "    .dataframe tbody tr th {\n",
       "        vertical-align: top;\n",
       "    }\n",
       "\n",
       "    .dataframe thead th {\n",
       "        text-align: right;\n",
       "    }\n",
       "</style>\n",
       "<table border=\"1\" class=\"dataframe\">\n",
       "  <thead>\n",
       "    <tr style=\"text-align: right;\">\n",
       "      <th></th>\n",
       "      <th>international_plan</th>\n",
       "      <th>voice_mail_plan</th>\n",
       "      <th>number_vmail_messages</th>\n",
       "      <th>total_day_minutes</th>\n",
       "      <th>total_day_calls</th>\n",
       "      <th>total_day_charge</th>\n",
       "      <th>total_eve_minutes</th>\n",
       "      <th>total_eve_calls</th>\n",
       "      <th>total_eve_charge</th>\n",
       "      <th>total_night_minutes</th>\n",
       "      <th>total_night_calls</th>\n",
       "      <th>total_night_charge</th>\n",
       "      <th>total_intl_minutes</th>\n",
       "      <th>total_intl_calls</th>\n",
       "      <th>total_intl_charge</th>\n",
       "      <th>customer_service_calls</th>\n",
       "      <th>churn</th>\n",
       "    </tr>\n",
       "  </thead>\n",
       "  <tbody>\n",
       "    <tr>\n",
       "      <th>10</th>\n",
       "      <td>0</td>\n",
       "      <td>0</td>\n",
       "      <td>0</td>\n",
       "      <td>129.1</td>\n",
       "      <td>137</td>\n",
       "      <td>21.95</td>\n",
       "      <td>228.5</td>\n",
       "      <td>83</td>\n",
       "      <td>19.42</td>\n",
       "      <td>208.8</td>\n",
       "      <td>111</td>\n",
       "      <td>9.40</td>\n",
       "      <td>12.7</td>\n",
       "      <td>6</td>\n",
       "      <td>3.43</td>\n",
       "      <td>4</td>\n",
       "      <td>1</td>\n",
       "    </tr>\n",
       "    <tr>\n",
       "      <th>14</th>\n",
       "      <td>0</td>\n",
       "      <td>0</td>\n",
       "      <td>0</td>\n",
       "      <td>120.7</td>\n",
       "      <td>70</td>\n",
       "      <td>20.52</td>\n",
       "      <td>307.2</td>\n",
       "      <td>76</td>\n",
       "      <td>26.11</td>\n",
       "      <td>203.0</td>\n",
       "      <td>99</td>\n",
       "      <td>9.14</td>\n",
       "      <td>13.1</td>\n",
       "      <td>6</td>\n",
       "      <td>3.54</td>\n",
       "      <td>4</td>\n",
       "      <td>0</td>\n",
       "    </tr>\n",
       "  </tbody>\n",
       "</table>\n",
       "</div>"
      ],
      "text/plain": [
       "    international_plan  voice_mail_plan  number_vmail_messages  \\\n",
       "10                   0                0                      0   \n",
       "14                   0                0                      0   \n",
       "\n",
       "    total_day_minutes  total_day_calls  total_day_charge  total_eve_minutes  \\\n",
       "10              129.1              137             21.95              228.5   \n",
       "14              120.7               70             20.52              307.2   \n",
       "\n",
       "    total_eve_calls  total_eve_charge  total_night_minutes  total_night_calls  \\\n",
       "10               83             19.42                208.8                111   \n",
       "14               76             26.11                203.0                 99   \n",
       "\n",
       "    total_night_charge  total_intl_minutes  total_intl_calls  \\\n",
       "10                9.40                12.7                 6   \n",
       "14                9.14                13.1                 6   \n",
       "\n",
       "    total_intl_charge  customer_service_calls  churn  \n",
       "10               3.43                       4      1  \n",
       "14               3.54                       4      0  "
      ]
     },
     "execution_count": 85,
     "metadata": {},
     "output_type": "execute_result"
    }
   ],
   "source": [
    "df_high_service_calls = df.loc[df.customer_service_calls >= 4]\n",
    "df_high_service_calls.head(2)"
   ]
  },
  {
   "cell_type": "code",
   "execution_count": 86,
   "metadata": {},
   "outputs": [
    {
     "data": {
      "text/plain": [
       "0    129\n",
       "1    138\n",
       "Name: churn, dtype: int64"
      ]
     },
     "execution_count": 86,
     "metadata": {},
     "output_type": "execute_result"
    }
   ],
   "source": [
    "df_high_service_calls.churn.value_counts().sort_index()"
   ]
  },
  {
   "cell_type": "code",
   "execution_count": 87,
   "metadata": {},
   "outputs": [
    {
     "data": {
      "text/plain": [
       "0.517"
      ]
     },
     "execution_count": 87,
     "metadata": {},
     "output_type": "execute_result"
    }
   ],
   "source": [
    "round(138/(138+129),3)"
   ]
  },
  {
   "cell_type": "code",
   "execution_count": 88,
   "metadata": {},
   "outputs": [
    {
     "data": {
      "text/html": [
       "<div>\n",
       "<style scoped>\n",
       "    .dataframe tbody tr th:only-of-type {\n",
       "        vertical-align: middle;\n",
       "    }\n",
       "\n",
       "    .dataframe tbody tr th {\n",
       "        vertical-align: top;\n",
       "    }\n",
       "\n",
       "    .dataframe thead th {\n",
       "        text-align: right;\n",
       "    }\n",
       "</style>\n",
       "<table border=\"1\" class=\"dataframe\">\n",
       "  <thead>\n",
       "    <tr style=\"text-align: right;\">\n",
       "      <th></th>\n",
       "      <th>international_plan</th>\n",
       "      <th>voice_mail_plan</th>\n",
       "      <th>number_vmail_messages</th>\n",
       "      <th>total_day_minutes</th>\n",
       "      <th>total_day_calls</th>\n",
       "      <th>total_day_charge</th>\n",
       "      <th>total_eve_minutes</th>\n",
       "      <th>total_eve_calls</th>\n",
       "      <th>total_eve_charge</th>\n",
       "      <th>total_night_minutes</th>\n",
       "      <th>total_night_calls</th>\n",
       "      <th>total_night_charge</th>\n",
       "      <th>total_intl_minutes</th>\n",
       "      <th>total_intl_calls</th>\n",
       "      <th>total_intl_charge</th>\n",
       "      <th>customer_service_calls</th>\n",
       "      <th>churn</th>\n",
       "    </tr>\n",
       "  </thead>\n",
       "  <tbody>\n",
       "    <tr>\n",
       "      <th>0</th>\n",
       "      <td>0</td>\n",
       "      <td>1</td>\n",
       "      <td>25</td>\n",
       "      <td>265.1</td>\n",
       "      <td>110</td>\n",
       "      <td>45.07</td>\n",
       "      <td>197.4</td>\n",
       "      <td>99</td>\n",
       "      <td>16.78</td>\n",
       "      <td>244.7</td>\n",
       "      <td>91</td>\n",
       "      <td>11.01</td>\n",
       "      <td>10.0</td>\n",
       "      <td>3</td>\n",
       "      <td>2.7</td>\n",
       "      <td>1</td>\n",
       "      <td>0</td>\n",
       "    </tr>\n",
       "    <tr>\n",
       "      <th>1</th>\n",
       "      <td>0</td>\n",
       "      <td>1</td>\n",
       "      <td>26</td>\n",
       "      <td>161.6</td>\n",
       "      <td>123</td>\n",
       "      <td>27.47</td>\n",
       "      <td>195.5</td>\n",
       "      <td>103</td>\n",
       "      <td>16.62</td>\n",
       "      <td>254.4</td>\n",
       "      <td>103</td>\n",
       "      <td>11.45</td>\n",
       "      <td>13.7</td>\n",
       "      <td>3</td>\n",
       "      <td>3.7</td>\n",
       "      <td>1</td>\n",
       "      <td>0</td>\n",
       "    </tr>\n",
       "  </tbody>\n",
       "</table>\n",
       "</div>"
      ],
      "text/plain": [
       "   international_plan  voice_mail_plan  number_vmail_messages  \\\n",
       "0                   0                1                     25   \n",
       "1                   0                1                     26   \n",
       "\n",
       "   total_day_minutes  total_day_calls  total_day_charge  total_eve_minutes  \\\n",
       "0              265.1              110             45.07              197.4   \n",
       "1              161.6              123             27.47              195.5   \n",
       "\n",
       "   total_eve_calls  total_eve_charge  total_night_minutes  total_night_calls  \\\n",
       "0               99             16.78                244.7                 91   \n",
       "1              103             16.62                254.4                103   \n",
       "\n",
       "   total_night_charge  total_intl_minutes  total_intl_calls  \\\n",
       "0               11.01                10.0                 3   \n",
       "1               11.45                13.7                 3   \n",
       "\n",
       "   total_intl_charge  customer_service_calls  churn  \n",
       "0                2.7                       1      0  \n",
       "1                3.7                       1      0  "
      ]
     },
     "execution_count": 88,
     "metadata": {},
     "output_type": "execute_result"
    }
   ],
   "source": [
    "df_normal_service_calls = df.loc[df.customer_service_calls < 4]\n",
    "df_normal_service_calls.head(2)"
   ]
  },
  {
   "cell_type": "code",
   "execution_count": 89,
   "metadata": {},
   "outputs": [
    {
     "data": {
      "text/plain": [
       "0    2721\n",
       "1     345\n",
       "Name: churn, dtype: int64"
      ]
     },
     "execution_count": 89,
     "metadata": {},
     "output_type": "execute_result"
    }
   ],
   "source": [
    "df_normal_service_calls.churn.value_counts().sort_index()"
   ]
  },
  {
   "cell_type": "code",
   "execution_count": 90,
   "metadata": {},
   "outputs": [
    {
     "data": {
      "text/plain": [
       "0.113"
      ]
     },
     "execution_count": 90,
     "metadata": {},
     "output_type": "execute_result"
    }
   ],
   "source": [
    "round(345/(345+2721),3)"
   ]
  },
  {
   "cell_type": "markdown",
   "metadata": {},
   "source": [
    "The churn rate for customers who made 4 or more service calls was above 52%, much higher than the churn rate for all others (11%). SyriaTel should do what it can to reduce the amount of service calls. This can be done by making answers/solutions more easily accessible to customers. Also, fewer customers making service calls could reduce costs, as fewer resources would be required to answer these questions."
   ]
  },
  {
   "cell_type": "code",
   "execution_count": null,
   "metadata": {},
   "outputs": [],
   "source": []
  }
 ],
 "metadata": {
  "kernelspec": {
   "display_name": "Python 3",
   "language": "python",
   "name": "python3"
  },
  "language_info": {
   "codemirror_mode": {
    "name": "ipython",
    "version": 3
   },
   "file_extension": ".py",
   "mimetype": "text/x-python",
   "name": "python",
   "nbconvert_exporter": "python",
   "pygments_lexer": "ipython3",
   "version": "3.8.3"
  }
 },
 "nbformat": 4,
 "nbformat_minor": 4
}
